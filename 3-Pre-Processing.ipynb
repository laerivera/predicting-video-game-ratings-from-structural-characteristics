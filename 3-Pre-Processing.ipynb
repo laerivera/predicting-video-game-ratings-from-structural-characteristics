{
 "cells": [
  {
   "cell_type": "markdown",
   "id": "fdf0a305-8c72-4df0-88b4-a74c0cf7989f",
   "metadata": {},
   "source": [
    "# G.G, Good Game! Investigating the Structural Characteristics that Make Highly-Rated Video Games"
   ]
  },
  {
   "cell_type": "markdown",
   "id": "f2eb1367-6092-42c0-b9ce-70dc6bedd40c",
   "metadata": {
    "tags": []
   },
   "source": [
    "# Notebook 3 - Pre-Processing\n",
    "\n",
    "\n",
    "&nbsp;\n",
    "\n",
    "**By: [Lae Rivera](https://github.com/laerivera)**\n",
    "\n",
    "**BrainStation Data Science**\n",
    "\n",
    "**April 4, 2022**\n",
    "\n",
    "In this notebook, I will be continuing various cleaning methods to ensure the data fitted in my models are of good quality. I will be modifying columns, adding features, and preparing the data for the implementation of Natural Language Processing (NLP) and Machine Learning techniques.\n"
   ]
  },
  {
   "cell_type": "markdown",
   "id": "0d77a6f8-f81f-4e0c-99a3-614f878d1151",
   "metadata": {},
   "source": [
    "***"
   ]
  },
  {
   "cell_type": "markdown",
   "id": "341ea962-440e-4c47-87bc-8a9aad0f9fcc",
   "metadata": {},
   "source": [
    "## Notebook Contents\n",
    "\n",
    "1. [**Binarize Columns**](#c1)<br>\n",
    "    1.1 [Binarize Meta Score](#c1.1)<br>\n",
    "    1.2 [Binarize User Review](#c1.2)<br>\n",
    "2. [**Adding Feature: Game of the Year**](#c2)<br>\n",
    "3. [**Cleaning Summary**](#c3)<br>\n",
    "    3.1 [Remove Brackets](#c3.1)<br>\n",
    "4. [**NLP Preparations**](#c4)<br>"
   ]
  },
  {
   "cell_type": "markdown",
   "id": "68107f4e-553e-4c30-a591-1b3365b55d5f",
   "metadata": {},
   "source": [
    "***"
   ]
  },
  {
   "cell_type": "markdown",
   "id": "a31853ab-b2d6-4beb-9b1d-703571caf82e",
   "metadata": {},
   "source": [
    "**Importing Libraries**"
   ]
  },
  {
   "cell_type": "code",
   "execution_count": 1,
   "id": "333cb118-d516-47ba-aa30-e198517e9e81",
   "metadata": {},
   "outputs": [],
   "source": [
    "# Main Libraries\n",
    "import numpy as np\n",
    "import pandas as pd\n",
    "import matplotlib.pyplot as plt\n",
    "import seaborn as sns\n",
    "import joblib\n"
   ]
  },
  {
   "cell_type": "markdown",
   "id": "7e342144-f789-4645-9e65-289dd3aad7a2",
   "metadata": {},
   "source": [
    "**Loading Data**"
   ]
  },
  {
   "cell_type": "code",
   "execution_count": 2,
   "id": "4f345902-56b7-4230-bde5-24308eef8167",
   "metadata": {},
   "outputs": [],
   "source": [
    "games_df = joblib.load('data/games_df.pkl')"
   ]
  },
  {
   "cell_type": "markdown",
   "id": "88370bbc-8e5d-4905-bc4f-5c1d868e6804",
   "metadata": {},
   "source": [
    "***"
   ]
  },
  {
   "cell_type": "markdown",
   "id": "9c3a6e83-0c04-4718-8ecc-614647a11ebb",
   "metadata": {},
   "source": [
    "Now I want to create a final clean dataset to be vectorizerd, split and further prepared for analysis.\n",
    "\n",
    "**Objectives:**\n",
    "- Numericize 'meta_score', 'user_review'\n",
    "- Create a 'Game of the Year' feature\n",
    "- Clean 'summary' column to prepare for vectorizing"
   ]
  },
  {
   "cell_type": "markdown",
   "id": "804e6d6a-dc33-4cf0-a07b-baceda94df20",
   "metadata": {},
   "source": [
    "***"
   ]
  },
  {
   "cell_type": "markdown",
   "id": "c69e67cb-75db-436d-9014-635feef31b02",
   "metadata": {},
   "source": [
    "**List of Columns**"
   ]
  },
  {
   "cell_type": "code",
   "execution_count": 3,
   "id": "35c6ffa1-e578-4c01-ad8f-67855390c5f9",
   "metadata": {},
   "outputs": [
    {
     "data": {
      "text/plain": [
       "['name',\n",
       " 'platform',\n",
       " 'summary',\n",
       " 'meta_score',\n",
       " 'user_review',\n",
       " 'release_year',\n",
       " 'release_month']"
      ]
     },
     "execution_count": 3,
     "metadata": {},
     "output_type": "execute_result"
    }
   ],
   "source": [
    "the_list_of_columns = list(games_df.columns)\n",
    "the_list_of_columns"
   ]
  },
  {
   "cell_type": "markdown",
   "id": "472071d4-3e44-4960-9d03-6c8dedb91711",
   "metadata": {},
   "source": [
    "This list will be my guide and reference to keep track of the columns while I process the data."
   ]
  },
  {
   "cell_type": "markdown",
   "id": "f62747b8-a8bb-4a64-9c50-2a17fd4afbb1",
   "metadata": {},
   "source": [
    "***"
   ]
  },
  {
   "cell_type": "code",
   "execution_count": 4,
   "id": "5f18667a-534f-4ee4-a6c8-96a9953e9d15",
   "metadata": {},
   "outputs": [],
   "source": [
    "# Create copy to conserve original dataframe\n",
    "\n",
    "games_clean = games_df.copy()"
   ]
  },
  {
   "cell_type": "code",
   "execution_count": 5,
   "id": "03488e51-844d-4180-964c-0dc360f28469",
   "metadata": {},
   "outputs": [
    {
     "data": {
      "text/html": [
       "<div>\n",
       "<style scoped>\n",
       "    .dataframe tbody tr th:only-of-type {\n",
       "        vertical-align: middle;\n",
       "    }\n",
       "\n",
       "    .dataframe tbody tr th {\n",
       "        vertical-align: top;\n",
       "    }\n",
       "\n",
       "    .dataframe thead th {\n",
       "        text-align: right;\n",
       "    }\n",
       "</style>\n",
       "<table border=\"1\" class=\"dataframe\">\n",
       "  <thead>\n",
       "    <tr style=\"text-align: right;\">\n",
       "      <th></th>\n",
       "      <th>name</th>\n",
       "      <th>platform</th>\n",
       "      <th>summary</th>\n",
       "      <th>meta_score</th>\n",
       "      <th>user_review</th>\n",
       "      <th>release_year</th>\n",
       "      <th>release_month</th>\n",
       "    </tr>\n",
       "  </thead>\n",
       "  <tbody>\n",
       "    <tr>\n",
       "      <th>0</th>\n",
       "      <td>The Legend of Zelda: Ocarina of Time</td>\n",
       "      <td>Nintendo 64</td>\n",
       "      <td>As a young boy, Link is tricked by Ganondorf, ...</td>\n",
       "      <td>99</td>\n",
       "      <td>9.1</td>\n",
       "      <td>1998</td>\n",
       "      <td>11</td>\n",
       "    </tr>\n",
       "    <tr>\n",
       "      <th>1</th>\n",
       "      <td>Tony Hawk's Pro Skater 2</td>\n",
       "      <td>PlayStation</td>\n",
       "      <td>As most major publishers' development efforts ...</td>\n",
       "      <td>98</td>\n",
       "      <td>7.4</td>\n",
       "      <td>2000</td>\n",
       "      <td>9</td>\n",
       "    </tr>\n",
       "    <tr>\n",
       "      <th>2</th>\n",
       "      <td>Grand Theft Auto IV</td>\n",
       "      <td>PlayStation 3</td>\n",
       "      <td>[Metacritic's 2008 PS3 Game of the Year; Also ...</td>\n",
       "      <td>98</td>\n",
       "      <td>7.7</td>\n",
       "      <td>2008</td>\n",
       "      <td>4</td>\n",
       "    </tr>\n",
       "    <tr>\n",
       "      <th>3</th>\n",
       "      <td>SoulCalibur</td>\n",
       "      <td>Dreamcast</td>\n",
       "      <td>This is a tale of souls and swords, transcendi...</td>\n",
       "      <td>98</td>\n",
       "      <td>8.4</td>\n",
       "      <td>1999</td>\n",
       "      <td>9</td>\n",
       "    </tr>\n",
       "    <tr>\n",
       "      <th>4</th>\n",
       "      <td>Grand Theft Auto IV</td>\n",
       "      <td>Xbox 360</td>\n",
       "      <td>[Metacritic's 2008 Xbox 360 Game of the Year; ...</td>\n",
       "      <td>98</td>\n",
       "      <td>7.9</td>\n",
       "      <td>2008</td>\n",
       "      <td>4</td>\n",
       "    </tr>\n",
       "  </tbody>\n",
       "</table>\n",
       "</div>"
      ],
      "text/plain": [
       "                                   name        platform  \\\n",
       "0  The Legend of Zelda: Ocarina of Time     Nintendo 64   \n",
       "1              Tony Hawk's Pro Skater 2     PlayStation   \n",
       "2                   Grand Theft Auto IV   PlayStation 3   \n",
       "3                           SoulCalibur       Dreamcast   \n",
       "4                   Grand Theft Auto IV        Xbox 360   \n",
       "\n",
       "                                             summary  meta_score  user_review  \\\n",
       "0  As a young boy, Link is tricked by Ganondorf, ...          99          9.1   \n",
       "1  As most major publishers' development efforts ...          98          7.4   \n",
       "2  [Metacritic's 2008 PS3 Game of the Year; Also ...          98          7.7   \n",
       "3  This is a tale of souls and swords, transcendi...          98          8.4   \n",
       "4  [Metacritic's 2008 Xbox 360 Game of the Year; ...          98          7.9   \n",
       "\n",
       "   release_year  release_month  \n",
       "0          1998             11  \n",
       "1          2000              9  \n",
       "2          2008              4  \n",
       "3          1999              9  \n",
       "4          2008              4  "
      ]
     },
     "execution_count": 5,
     "metadata": {},
     "output_type": "execute_result"
    }
   ],
   "source": [
    "games_clean.head()"
   ]
  },
  {
   "cell_type": "markdown",
   "id": "f40c8f28-b3cd-410a-b3d7-c7f403e4b774",
   "metadata": {},
   "source": [
    "The column looks good-- just as we left it in the previous notebook."
   ]
  },
  {
   "cell_type": "markdown",
   "id": "02150a40-8f7c-4383-bed6-84d6cc5ea84c",
   "metadata": {},
   "source": [
    "***"
   ]
  },
  {
   "cell_type": "markdown",
   "id": "b3a68da5-6887-4825-8de0-fc6793429258",
   "metadata": {
    "tags": []
   },
   "source": [
    "# Binarize Columns<a id=\"c1\"></a>"
   ]
  },
  {
   "cell_type": "markdown",
   "id": "a9803fc9-9596-4428-9768-4cef2ab25b8e",
   "metadata": {},
   "source": [
    "For both of these columns, I want to binarize them to carry 1/0 values. Scores below the threshold set will receive a '0', which represents a \"low\" score while scores above the threshold will receive a '1', which represents a \"high\" score. I will be refering to \"low/high\" games synonymously as \"bad/good\" games.\n",
    "\n",
    "\n"
   ]
  },
  {
   "cell_type": "markdown",
   "id": "b2ce42c3-e54c-43e5-9c5b-50294957a488",
   "metadata": {
    "tags": []
   },
   "source": [
    "## Binarize Meta Score <a id=\"c1.1\"></a>"
   ]
  },
  {
   "cell_type": "code",
   "execution_count": 6,
   "id": "9da3c471-ff61-4cd1-a1ab-c25683d5f438",
   "metadata": {},
   "outputs": [
    {
     "name": "stdout",
     "output_type": "stream",
     "text": [
      "Summary Descriptive Statistics of Meta Score\n"
     ]
    },
    {
     "data": {
      "text/plain": [
       "count    17776.000000\n",
       "mean        71.027171\n",
       "std         12.232221\n",
       "min         20.000000\n",
       "25%         64.000000\n",
       "50%         73.000000\n",
       "75%         80.000000\n",
       "max         99.000000\n",
       "Name: meta_score, dtype: float64"
      ]
     },
     "execution_count": 6,
     "metadata": {},
     "output_type": "execute_result"
    }
   ],
   "source": [
    "print(\"Summary Descriptive Statistics of Meta Score\")\n",
    "games_clean['meta_score'].describe()"
   ]
  },
  {
   "cell_type": "markdown",
   "id": "08d1ecb3-46ea-444e-b88f-31824c982fee",
   "metadata": {},
   "source": [
    "Looking at the summary statistics will help me decide on a threshold when I binarize Meta Score. Here I can see that the average will be a good start, however, I want to be as balanced as possible and I prefer using integers as a threshold instead of decimals (the mean is 71.02). The **median (73) will be used** as it gives me 50% of the data from both sides. I will confirm the balance of data through plotting and looking at the distribution."
   ]
  },
  {
   "cell_type": "code",
   "execution_count": 7,
   "id": "af9e333f-3173-4da3-8550-8b6783af70b1",
   "metadata": {},
   "outputs": [],
   "source": [
    "# Encode as binary using median as threshold\n",
    "games_clean[\"meta_score\"] = np.where(games_clean[\"meta_score\"] <73, 0, 1)"
   ]
  },
  {
   "cell_type": "code",
   "execution_count": 8,
   "id": "99032de9-aeb6-48e0-bee7-276e055630f4",
   "metadata": {},
   "outputs": [
    {
     "name": "stdout",
     "output_type": "stream",
     "text": [
      "Distribution of Meta Score (%)\n"
     ]
    },
    {
     "data": {
      "text/plain": [
       "0    48.81\n",
       "1    51.19\n",
       "Name: meta_score, dtype: float64"
      ]
     },
     "execution_count": 8,
     "metadata": {},
     "output_type": "execute_result"
    }
   ],
   "source": [
    "# Values should be a 1 or 0 \n",
    "print(\"Distribution of Meta Score (%)\")\n",
    "meta_dist = round(games_clean['meta_score'].value_counts(normalize=True).sort_index()*100, 2)\n",
    "meta_dist"
   ]
  },
  {
   "cell_type": "markdown",
   "id": "405f1fda-9469-41cb-aa8c-9278c7e38326",
   "metadata": {},
   "source": [
    "**Meta Score Distribution Plot**:"
   ]
  },
  {
   "cell_type": "code",
   "execution_count": 9,
   "id": "6904a85f-32a1-49ca-a76a-786740570c9c",
   "metadata": {},
   "outputs": [
    {
     "data": {
      "image/png": "[encoded data removed]",
      "text/plain": [
       "<Figure size 1008x432 with 1 Axes>"
      ]
     },
     "metadata": {
      "needs_background": "light"
     },
     "output_type": "display_data"
    }
   ],
   "source": [
    "# Plot the distribution\n",
    "plt.figure(figsize=(14, 6))\n",
    "meta_dist_1 = meta_dist.plot.bar(color=['red', 'blue'])\n",
    "\n",
    "#set labels and titles\n",
    "plt.title('Meta Score Distribution', fontsize=20)\n",
    "plt.xlabel('Meta Score', fontsize=15)\n",
    "plt.ylabel('Distribution (%)', fontsize=15)\n",
    "plt.xticks(rotation = 360)\n",
    "plt.bar_label(meta_dist_1.containers[0], size=14)\n",
    "\n",
    "plt.savefig('data/distmetascore.jpg') #save figure\n",
    "plt.show()\n"
   ]
  },
  {
   "cell_type": "markdown",
   "id": "487e4986-0724-4e7a-a2b8-2bb44facc376",
   "metadata": {},
   "source": [
    "***"
   ]
  },
  {
   "cell_type": "markdown",
   "id": "a171848e-06e5-48ac-9450-4fcecbaaef3f",
   "metadata": {
    "tags": []
   },
   "source": [
    "## Binarize User Review <a id=\"c1.2\"></a>"
   ]
  },
  {
   "cell_type": "code",
   "execution_count": 10,
   "id": "a23ab897-3a10-4017-af44-6395f4e83f1f",
   "metadata": {},
   "outputs": [],
   "source": [
    "# Convert into integers\n",
    "games_clean['user_review'] = games_clean['user_review'].astype('int')"
   ]
  },
  {
   "cell_type": "code",
   "execution_count": 11,
   "id": "265363b0-f76a-4142-b811-9d8aa83cf2e2",
   "metadata": {},
   "outputs": [
    {
     "name": "stdout",
     "output_type": "stream",
     "text": [
      "Summary Descriptive Statistics of User Review\n"
     ]
    },
    {
     "data": {
      "text/plain": [
       "count    17776.000000\n",
       "mean         6.534260\n",
       "std          1.370395\n",
       "min          0.000000\n",
       "25%          6.000000\n",
       "50%          7.000000\n",
       "75%          7.000000\n",
       "max          9.000000\n",
       "Name: user_review, dtype: float64"
      ]
     },
     "execution_count": 11,
     "metadata": {},
     "output_type": "execute_result"
    }
   ],
   "source": [
    "print(\"Summary Descriptive Statistics of User Review\")\n",
    "games_clean['user_review'].describe()"
   ]
  },
  {
   "cell_type": "markdown",
   "id": "7cde8962-30e8-418e-8fe7-425e06592e8e",
   "metadata": {},
   "source": [
    "Looking at the summary statistics will help me decide on a threshold when I binarize User Review. Here I can see that the average will be a good start, however, I want to be as balanced as possible. The **median (7) will be used** as it gives me 50% of the data from both sides, and I prefer integers instead of a decimal (6.53 mean). I will confirm the balance of data through plotting and looking at the distribution."
   ]
  },
  {
   "cell_type": "code",
   "execution_count": 12,
   "id": "d44efde0-8f78-442f-ade0-6bf4a943c1a9",
   "metadata": {},
   "outputs": [],
   "source": [
    "# Encode as binary\n",
    "games_clean[\"user_review\"] = np.where(games_clean[\"user_review\"] <7, 0, 1)"
   ]
  },
  {
   "cell_type": "code",
   "execution_count": 13,
   "id": "de5add02-0872-4ae7-8537-65d8c1afe48b",
   "metadata": {},
   "outputs": [
    {
     "name": "stdout",
     "output_type": "stream",
     "text": [
      "Distribution of User Reviews\n"
     ]
    },
    {
     "data": {
      "text/plain": [
       "0    39.28\n",
       "1    60.72\n",
       "Name: user_review, dtype: float64"
      ]
     },
     "execution_count": 13,
     "metadata": {},
     "output_type": "execute_result"
    }
   ],
   "source": [
    "# Values should be a 1 or 0 \n",
    "print(\"Distribution of User Reviews\")\n",
    "user_dist = round(games_clean['user_review'].value_counts(normalize=True).sort_index()*100, 2)\n",
    "user_dist"
   ]
  },
  {
   "cell_type": "code",
   "execution_count": 14,
   "id": "7d81fac1-5be5-43ec-a92d-f82ada86aa78",
   "metadata": {},
   "outputs": [
    {
     "data": {
      "image/png": "[encoded data removed]",
      "text/plain": [
       "<Figure size 1008x432 with 1 Axes>"
      ]
     },
     "metadata": {
      "needs_background": "light"
     },
     "output_type": "display_data"
    }
   ],
   "source": [
    "# Plot the distribution\n",
    "plt.figure(figsize=(14, 6))\n",
    "user_dist_1 = user_dist.plot.bar(color=['red', 'blue'])\n",
    "\n",
    "#set labels and titles\n",
    "plt.title('User Review Distribution', fontsize=20)\n",
    "plt.xlabel('User Review', fontsize=15)\n",
    "plt.ylabel('Distribution (%)', fontsize=15)\n",
    "plt.xticks(rotation = 360)\n",
    "plt.bar_label(user_dist_1.containers[0], size=14) \n",
    "\n",
    "plt.savefig('data/distuserreview.jpg')\n",
    "plt.show()\n"
   ]
  },
  {
   "cell_type": "markdown",
   "id": "bc5c5770-86bc-4f17-811f-7e3181129c70",
   "metadata": {},
   "source": [
    "Not bad in terms of distribution 60% to a 40% is still okay. I can conclude that a user_review of 7 is a great threshold set and I will keep this."
   ]
  },
  {
   "cell_type": "markdown",
   "id": "a1e8657d-e54c-4943-90ea-e2f69d7548f4",
   "metadata": {},
   "source": [
    "**View Changes**"
   ]
  },
  {
   "cell_type": "code",
   "execution_count": 15,
   "id": "92b66001-6feb-49f3-829f-42188b689f68",
   "metadata": {},
   "outputs": [
    {
     "data": {
      "text/html": [
       "<div>\n",
       "<style scoped>\n",
       "    .dataframe tbody tr th:only-of-type {\n",
       "        vertical-align: middle;\n",
       "    }\n",
       "\n",
       "    .dataframe tbody tr th {\n",
       "        vertical-align: top;\n",
       "    }\n",
       "\n",
       "    .dataframe thead th {\n",
       "        text-align: right;\n",
       "    }\n",
       "</style>\n",
       "<table border=\"1\" class=\"dataframe\">\n",
       "  <thead>\n",
       "    <tr style=\"text-align: right;\">\n",
       "      <th></th>\n",
       "      <th>name</th>\n",
       "      <th>platform</th>\n",
       "      <th>summary</th>\n",
       "      <th>meta_score</th>\n",
       "      <th>user_review</th>\n",
       "      <th>release_year</th>\n",
       "      <th>release_month</th>\n",
       "    </tr>\n",
       "  </thead>\n",
       "  <tbody>\n",
       "    <tr>\n",
       "      <th>0</th>\n",
       "      <td>The Legend of Zelda: Ocarina of Time</td>\n",
       "      <td>Nintendo 64</td>\n",
       "      <td>As a young boy, Link is tricked by Ganondorf, ...</td>\n",
       "      <td>1</td>\n",
       "      <td>1</td>\n",
       "      <td>1998</td>\n",
       "      <td>11</td>\n",
       "    </tr>\n",
       "    <tr>\n",
       "      <th>1</th>\n",
       "      <td>Tony Hawk's Pro Skater 2</td>\n",
       "      <td>PlayStation</td>\n",
       "      <td>As most major publishers' development efforts ...</td>\n",
       "      <td>1</td>\n",
       "      <td>1</td>\n",
       "      <td>2000</td>\n",
       "      <td>9</td>\n",
       "    </tr>\n",
       "    <tr>\n",
       "      <th>2</th>\n",
       "      <td>Grand Theft Auto IV</td>\n",
       "      <td>PlayStation 3</td>\n",
       "      <td>[Metacritic's 2008 PS3 Game of the Year; Also ...</td>\n",
       "      <td>1</td>\n",
       "      <td>1</td>\n",
       "      <td>2008</td>\n",
       "      <td>4</td>\n",
       "    </tr>\n",
       "    <tr>\n",
       "      <th>3</th>\n",
       "      <td>SoulCalibur</td>\n",
       "      <td>Dreamcast</td>\n",
       "      <td>This is a tale of souls and swords, transcendi...</td>\n",
       "      <td>1</td>\n",
       "      <td>1</td>\n",
       "      <td>1999</td>\n",
       "      <td>9</td>\n",
       "    </tr>\n",
       "    <tr>\n",
       "      <th>4</th>\n",
       "      <td>Grand Theft Auto IV</td>\n",
       "      <td>Xbox 360</td>\n",
       "      <td>[Metacritic's 2008 Xbox 360 Game of the Year; ...</td>\n",
       "      <td>1</td>\n",
       "      <td>1</td>\n",
       "      <td>2008</td>\n",
       "      <td>4</td>\n",
       "    </tr>\n",
       "  </tbody>\n",
       "</table>\n",
       "</div>"
      ],
      "text/plain": [
       "                                   name        platform  \\\n",
       "0  The Legend of Zelda: Ocarina of Time     Nintendo 64   \n",
       "1              Tony Hawk's Pro Skater 2     PlayStation   \n",
       "2                   Grand Theft Auto IV   PlayStation 3   \n",
       "3                           SoulCalibur       Dreamcast   \n",
       "4                   Grand Theft Auto IV        Xbox 360   \n",
       "\n",
       "                                             summary  meta_score  user_review  \\\n",
       "0  As a young boy, Link is tricked by Ganondorf, ...           1            1   \n",
       "1  As most major publishers' development efforts ...           1            1   \n",
       "2  [Metacritic's 2008 PS3 Game of the Year; Also ...           1            1   \n",
       "3  This is a tale of souls and swords, transcendi...           1            1   \n",
       "4  [Metacritic's 2008 Xbox 360 Game of the Year; ...           1            1   \n",
       "\n",
       "   release_year  release_month  \n",
       "0          1998             11  \n",
       "1          2000              9  \n",
       "2          2008              4  \n",
       "3          1999              9  \n",
       "4          2008              4  "
      ]
     },
     "execution_count": 15,
     "metadata": {},
     "output_type": "execute_result"
    }
   ],
   "source": [
    "# View changes to the data\n",
    "games_clean.head()"
   ]
  },
  {
   "cell_type": "markdown",
   "id": "d49b13a5-72b4-43bd-aa42-84a4075e609b",
   "metadata": {},
   "source": [
    "As we can see, the dataframe has been updated to reflect the changes in `meta_score` and `user_review`. These columns are now in binary that denote a low/high score or review."
   ]
  },
  {
   "cell_type": "markdown",
   "id": "f293de54-272c-4282-a070-e98639a05558",
   "metadata": {},
   "source": [
    "***"
   ]
  },
  {
   "cell_type": "markdown",
   "id": "f477bb0e-8704-452d-a550-9148a467ba3f",
   "metadata": {
    "tags": []
   },
   "source": [
    "#  Adding 'Game of the Year' feature <a id=\"c2\"></a>"
   ]
  },
  {
   "cell_type": "markdown",
   "id": "7425ace3-c25f-46bb-ae53-5a466a60a2ae",
   "metadata": {},
   "source": [
    "Upon browsing the dataset, I noticed some game summaries were recipients of the \"Metacritic's Game of The Year\" award. I want to extract this information and add it as a feature. "
   ]
  },
  {
   "cell_type": "code",
   "execution_count": 16,
   "id": "4d8cbcc4-2905-4888-a308-5797433fa08a",
   "metadata": {},
   "outputs": [],
   "source": [
    "# Mapping out Game of the Year\n",
    "games_clean['game_of_the_year'] = games_clean['summary'].map(lambda x: \"1\" if \"Game of the Year\" in x else \"0\")"
   ]
  },
  {
   "cell_type": "markdown",
   "id": "cbd0d446-ef94-4f98-9b3f-a5f0fb472f4e",
   "metadata": {},
   "source": [
    "What this is doing is looking for any instance of \"Game of the Year\" in the `summary` column corpus——the game summary will **only** have this if it is a Metacritic Game of the Year recipient——If an instance is found, then the new column created will contain the value '1'. If no instance is found, a vlaue of '0' would be returned.\n",
    "\n",
    "In summary, a \"1\" in the `Game of the Year` column means that the game won that award. A \"0\" value will mean otherwise."
   ]
  },
  {
   "cell_type": "markdown",
   "id": "0b37d840-b2cd-4646-b7bb-26eb1fcd4a7f",
   "metadata": {},
   "source": [
    "---"
   ]
  },
  {
   "cell_type": "code",
   "execution_count": 17,
   "id": "27ef1a7d-ca4d-4a76-8824-52814321b326",
   "metadata": {},
   "outputs": [
    {
     "name": "stdout",
     "output_type": "stream",
     "text": [
      "Metacritic's Game of The Year Distribution '%'\n"
     ]
    },
    {
     "data": {
      "text/plain": [
       "0    99.8\n",
       "1     0.2\n",
       "Name: game_of_the_year, dtype: float64"
      ]
     },
     "execution_count": 17,
     "metadata": {},
     "output_type": "execute_result"
    }
   ],
   "source": [
    "# Check distribution\n",
    "print(\"Metacritic's Game of The Year Distribution '%'\")\n",
    "goty_dist = round(games_clean['game_of_the_year'].value_counts(normalize=True)*100, 2)\n",
    "goty_dist"
   ]
  },
  {
   "cell_type": "code",
   "execution_count": 18,
   "id": "ef206170-7834-4f67-bb33-03baa3c3aff9",
   "metadata": {},
   "outputs": [
    {
     "data": {
      "image/png": "[encoded data removed]",
      "text/plain": [
       "<Figure size 1008x432 with 1 Axes>"
      ]
     },
     "metadata": {
      "needs_background": "light"
     },
     "output_type": "display_data"
    }
   ],
   "source": [
    "# Plot the distribution\n",
    "plt.figure(figsize=(14, 6))\n",
    "goty_dist_1 = goty_dist.plot.bar(color=['red', 'blue'])\n",
    "\n",
    "# set labels \n",
    "plt.title('Metacritic Game of the Year Distribution', fontsize=20)\n",
    "plt.xlabel('Game of the Year', fontsize=15)\n",
    "plt.ylabel('Distribution (%)', fontsize=15)\n",
    "plt.xticks(rotation = 360)\n",
    "plt.bar_label(goty_dist_1.containers[0], size=14)\n",
    "\n",
    "plt.savefig('data/distgoty.jpg')\n",
    "plt.show()\n"
   ]
  },
  {
   "cell_type": "markdown",
   "id": "f089f481-2ef1-4941-aa31-326497a2c3c6",
   "metadata": {},
   "source": [
    "Woah! We can see only 0.2% of games on Metacritic from 1995 to 2021 received this award. This is heavily imbalanced, but **this is expected**. Due to the abundant amount of games released in a single year, **only 1 can obtain the game of the year award, per console**. \n",
    "\n",
    "*Note: I plotted the Game of the Year distribution despite the obvious imbalance for consistency and easy of view for myself and others*"
   ]
  },
  {
   "cell_type": "markdown",
   "id": "a69edcbb-5191-4de3-b329-951c15434f96",
   "metadata": {},
   "source": [
    "***"
   ]
  },
  {
   "cell_type": "code",
   "execution_count": 19,
   "id": "6a50b49c-99a1-4e9f-ab1b-477d2dd72214",
   "metadata": {},
   "outputs": [
    {
     "data": {
      "text/html": [
       "<div>\n",
       "<style scoped>\n",
       "    .dataframe tbody tr th:only-of-type {\n",
       "        vertical-align: middle;\n",
       "    }\n",
       "\n",
       "    .dataframe tbody tr th {\n",
       "        vertical-align: top;\n",
       "    }\n",
       "\n",
       "    .dataframe thead th {\n",
       "        text-align: right;\n",
       "    }\n",
       "</style>\n",
       "<table border=\"1\" class=\"dataframe\">\n",
       "  <thead>\n",
       "    <tr style=\"text-align: right;\">\n",
       "      <th></th>\n",
       "      <th>name</th>\n",
       "      <th>platform</th>\n",
       "      <th>summary</th>\n",
       "      <th>meta_score</th>\n",
       "      <th>user_review</th>\n",
       "      <th>release_year</th>\n",
       "      <th>release_month</th>\n",
       "      <th>game_of_the_year</th>\n",
       "    </tr>\n",
       "  </thead>\n",
       "  <tbody>\n",
       "    <tr>\n",
       "      <th>0</th>\n",
       "      <td>The Legend of Zelda: Ocarina of Time</td>\n",
       "      <td>Nintendo 64</td>\n",
       "      <td>As a young boy, Link is tricked by Ganondorf, ...</td>\n",
       "      <td>1</td>\n",
       "      <td>1</td>\n",
       "      <td>1998</td>\n",
       "      <td>11</td>\n",
       "      <td>0</td>\n",
       "    </tr>\n",
       "    <tr>\n",
       "      <th>1</th>\n",
       "      <td>Tony Hawk's Pro Skater 2</td>\n",
       "      <td>PlayStation</td>\n",
       "      <td>As most major publishers' development efforts ...</td>\n",
       "      <td>1</td>\n",
       "      <td>1</td>\n",
       "      <td>2000</td>\n",
       "      <td>9</td>\n",
       "      <td>0</td>\n",
       "    </tr>\n",
       "    <tr>\n",
       "      <th>2</th>\n",
       "      <td>Grand Theft Auto IV</td>\n",
       "      <td>PlayStation 3</td>\n",
       "      <td>[Metacritic's 2008 PS3 Game of the Year; Also ...</td>\n",
       "      <td>1</td>\n",
       "      <td>1</td>\n",
       "      <td>2008</td>\n",
       "      <td>4</td>\n",
       "      <td>1</td>\n",
       "    </tr>\n",
       "    <tr>\n",
       "      <th>3</th>\n",
       "      <td>SoulCalibur</td>\n",
       "      <td>Dreamcast</td>\n",
       "      <td>This is a tale of souls and swords, transcendi...</td>\n",
       "      <td>1</td>\n",
       "      <td>1</td>\n",
       "      <td>1999</td>\n",
       "      <td>9</td>\n",
       "      <td>0</td>\n",
       "    </tr>\n",
       "    <tr>\n",
       "      <th>4</th>\n",
       "      <td>Grand Theft Auto IV</td>\n",
       "      <td>Xbox 360</td>\n",
       "      <td>[Metacritic's 2008 Xbox 360 Game of the Year; ...</td>\n",
       "      <td>1</td>\n",
       "      <td>1</td>\n",
       "      <td>2008</td>\n",
       "      <td>4</td>\n",
       "      <td>1</td>\n",
       "    </tr>\n",
       "  </tbody>\n",
       "</table>\n",
       "</div>"
      ],
      "text/plain": [
       "                                   name        platform  \\\n",
       "0  The Legend of Zelda: Ocarina of Time     Nintendo 64   \n",
       "1              Tony Hawk's Pro Skater 2     PlayStation   \n",
       "2                   Grand Theft Auto IV   PlayStation 3   \n",
       "3                           SoulCalibur       Dreamcast   \n",
       "4                   Grand Theft Auto IV        Xbox 360   \n",
       "\n",
       "                                             summary  meta_score  user_review  \\\n",
       "0  As a young boy, Link is tricked by Ganondorf, ...           1            1   \n",
       "1  As most major publishers' development efforts ...           1            1   \n",
       "2  [Metacritic's 2008 PS3 Game of the Year; Also ...           1            1   \n",
       "3  This is a tale of souls and swords, transcendi...           1            1   \n",
       "4  [Metacritic's 2008 Xbox 360 Game of the Year; ...           1            1   \n",
       "\n",
       "   release_year  release_month game_of_the_year  \n",
       "0          1998             11                0  \n",
       "1          2000              9                0  \n",
       "2          2008              4                1  \n",
       "3          1999              9                0  \n",
       "4          2008              4                1  "
      ]
     },
     "execution_count": 19,
     "metadata": {},
     "output_type": "execute_result"
    }
   ],
   "source": [
    "# View changes to the data \n",
    "games_clean.head()"
   ]
  },
  {
   "cell_type": "markdown",
   "id": "cf0d9ef4-0403-4357-948d-ccddcfd4e5ce",
   "metadata": {},
   "source": [
    "***"
   ]
  },
  {
   "cell_type": "markdown",
   "id": "6d6c55be-b3e9-466a-9eb5-04d300e2172d",
   "metadata": {
    "tags": []
   },
   "source": [
    "# Cleaning 'Summary' <a id=\"c3\"></a>"
   ]
  },
  {
   "cell_type": "markdown",
   "id": "8f5d59d3-d038-4dc2-bb80-2c6cf02633c6",
   "metadata": {},
   "source": [
    "Before putting the summary column into the appropriate vectorizers to obtain tokens, I will first clean the data. I want to reduce the amount of errors and biases in the corpus.\n",
    "\n",
    "**Workflow Plan**:\n",
    "- Remove brackets\n",
    "- Isolate the corpus\n",
    "- Prepare customized NLP tokenizers\n",
    "***"
   ]
  },
  {
   "cell_type": "markdown",
   "id": "05c64018-30ab-40b2-b414-db9891d49947",
   "metadata": {},
   "source": [
    "### Remove Brackets <a id=\"c3.1\"></a>"
   ]
  },
  {
   "cell_type": "markdown",
   "id": "2f7c6243-c0f9-4753-99f9-113fcbb58f4e",
   "metadata": {},
   "source": [
    "Now that the Game of The Year information has been extracted and conveyed in the `game_of_the_year` column, I can remove these from the corpus, as this text would no longer be needed. Furthermore, I will be removing all kinds of brackets to clean up the data set. I decided that other text contained within the brackets are not important in predicting the metascore (ie. publisher name, previous game title, etc.)."
   ]
  },
  {
   "cell_type": "markdown",
   "id": "4614d15b-e909-45b4-a330-7494faf90351",
   "metadata": {},
   "source": [
    "**Below is an example of a document with brackets**:"
   ]
  },
  {
   "cell_type": "code",
   "execution_count": 20,
   "id": "ff782be2-dc65-4f37-ae4c-d043c1379c26",
   "metadata": {},
   "outputs": [
    {
     "data": {
      "text/plain": [
       "'[Metacritic\\'s 2008 PS3 Game of the Year; Also known as \"GTA IV\"] What does the American Dream mean today? For Niko Belic, fresh off the boat from Europe. It\\'s the hope he can escape his past. For his cousin, Roman, it is the vision that together they can find fortune in Liberty City, gateway to the land of opportunity. As they slip into debt and are dragged into a criminal underworld by a series of shysters, thieves and sociopaths, they discover that the reality is very different from the dream in a city that worships money and status, and is heaven for those who have them an a living nightmare for those who don\\'t. [Rockstar Games]'"
      ]
     },
     "execution_count": 20,
     "metadata": {},
     "output_type": "execute_result"
    }
   ],
   "source": [
    "games_clean['summary'][2]"
   ]
  },
  {
   "cell_type": "code",
   "execution_count": 21,
   "id": "978a5fa0-2c91-46c4-b084-864ef971e9f9",
   "metadata": {},
   "outputs": [],
   "source": [
    "# Removes the square/round brackets and the texts inside it\n",
    "games_clean['summary'] = games_clean['summary'].str.replace(r'\\[(.*?)\\]','', regex=True).astype('str')\n",
    "games_clean['summary'] = games_clean['summary'].str.replace(r'\\((.*?)\\)','', regex=True).astype('str')"
   ]
  },
  {
   "cell_type": "markdown",
   "id": "1c996843-8a85-4485-9af2-acd3a6a34d3f",
   "metadata": {},
   "source": [
    "**The same document without brackets**:"
   ]
  },
  {
   "cell_type": "code",
   "execution_count": 22,
   "id": "185ffca8-bd75-4f19-b839-4aa8c023dc53",
   "metadata": {},
   "outputs": [
    {
     "data": {
      "text/plain": [
       "\" What does the American Dream mean today? For Niko Belic, fresh off the boat from Europe. It's the hope he can escape his past. For his cousin, Roman, it is the vision that together they can find fortune in Liberty City, gateway to the land of opportunity. As they slip into debt and are dragged into a criminal underworld by a series of shysters, thieves and sociopaths, they discover that the reality is very different from the dream in a city that worships money and status, and is heaven for those who have them an a living nightmare for those who don't. \""
      ]
     },
     "execution_count": 22,
     "metadata": {},
     "output_type": "execute_result"
    }
   ],
   "source": [
    "games_clean['summary'][2]"
   ]
  },
  {
   "cell_type": "markdown",
   "id": "9f240962-8ed6-4209-aed0-26e7d8525436",
   "metadata": {},
   "source": [
    "**Done!**\n",
    "\n",
    "The summary is now just a clean paragraph without any extra brackets that are redundant. All that's left is an easy-to-read paragraph."
   ]
  },
  {
   "cell_type": "markdown",
   "id": "5b41bb2a-3ef0-4946-bfa8-c2ffd361cc3d",
   "metadata": {},
   "source": [
    "---"
   ]
  },
  {
   "cell_type": "code",
   "execution_count": 23,
   "id": "ad0b4d2f-8da2-4049-b443-f6efe0b3b89a",
   "metadata": {},
   "outputs": [
    {
     "data": {
      "text/html": [
       "<div>\n",
       "<style scoped>\n",
       "    .dataframe tbody tr th:only-of-type {\n",
       "        vertical-align: middle;\n",
       "    }\n",
       "\n",
       "    .dataframe tbody tr th {\n",
       "        vertical-align: top;\n",
       "    }\n",
       "\n",
       "    .dataframe thead th {\n",
       "        text-align: right;\n",
       "    }\n",
       "</style>\n",
       "<table border=\"1\" class=\"dataframe\">\n",
       "  <thead>\n",
       "    <tr style=\"text-align: right;\">\n",
       "      <th></th>\n",
       "      <th>name</th>\n",
       "      <th>platform</th>\n",
       "      <th>summary</th>\n",
       "      <th>meta_score</th>\n",
       "      <th>user_review</th>\n",
       "      <th>release_year</th>\n",
       "      <th>release_month</th>\n",
       "      <th>game_of_the_year</th>\n",
       "    </tr>\n",
       "  </thead>\n",
       "  <tbody>\n",
       "    <tr>\n",
       "      <th>0</th>\n",
       "      <td>The Legend of Zelda: Ocarina of Time</td>\n",
       "      <td>Nintendo 64</td>\n",
       "      <td>As a young boy, Link is tricked by Ganondorf, ...</td>\n",
       "      <td>1</td>\n",
       "      <td>1</td>\n",
       "      <td>1998</td>\n",
       "      <td>11</td>\n",
       "      <td>0</td>\n",
       "    </tr>\n",
       "    <tr>\n",
       "      <th>1</th>\n",
       "      <td>Tony Hawk's Pro Skater 2</td>\n",
       "      <td>PlayStation</td>\n",
       "      <td>As most major publishers' development efforts ...</td>\n",
       "      <td>1</td>\n",
       "      <td>1</td>\n",
       "      <td>2000</td>\n",
       "      <td>9</td>\n",
       "      <td>0</td>\n",
       "    </tr>\n",
       "    <tr>\n",
       "      <th>2</th>\n",
       "      <td>Grand Theft Auto IV</td>\n",
       "      <td>PlayStation 3</td>\n",
       "      <td>What does the American Dream mean today? For ...</td>\n",
       "      <td>1</td>\n",
       "      <td>1</td>\n",
       "      <td>2008</td>\n",
       "      <td>4</td>\n",
       "      <td>1</td>\n",
       "    </tr>\n",
       "    <tr>\n",
       "      <th>3</th>\n",
       "      <td>SoulCalibur</td>\n",
       "      <td>Dreamcast</td>\n",
       "      <td>This is a tale of souls and swords, transcendi...</td>\n",
       "      <td>1</td>\n",
       "      <td>1</td>\n",
       "      <td>1999</td>\n",
       "      <td>9</td>\n",
       "      <td>0</td>\n",
       "    </tr>\n",
       "    <tr>\n",
       "      <th>4</th>\n",
       "      <td>Grand Theft Auto IV</td>\n",
       "      <td>Xbox 360</td>\n",
       "      <td>What does the American Dream mean today? For ...</td>\n",
       "      <td>1</td>\n",
       "      <td>1</td>\n",
       "      <td>2008</td>\n",
       "      <td>4</td>\n",
       "      <td>1</td>\n",
       "    </tr>\n",
       "    <tr>\n",
       "      <th>...</th>\n",
       "      <td>...</td>\n",
       "      <td>...</td>\n",
       "      <td>...</td>\n",
       "      <td>...</td>\n",
       "      <td>...</td>\n",
       "      <td>...</td>\n",
       "      <td>...</td>\n",
       "      <td>...</td>\n",
       "    </tr>\n",
       "    <tr>\n",
       "      <th>17771</th>\n",
       "      <td>Fast &amp; Furious: Showdown</td>\n",
       "      <td>Xbox 360</td>\n",
       "      <td>Fast &amp; Furious: Showdown takes some of the fra...</td>\n",
       "      <td>0</td>\n",
       "      <td>0</td>\n",
       "      <td>2013</td>\n",
       "      <td>5</td>\n",
       "      <td>0</td>\n",
       "    </tr>\n",
       "    <tr>\n",
       "      <th>17772</th>\n",
       "      <td>Drake of the 99 Dragons</td>\n",
       "      <td>Xbox</td>\n",
       "      <td>Drake is out for revenge in a supernatural Hon...</td>\n",
       "      <td>0</td>\n",
       "      <td>0</td>\n",
       "      <td>2003</td>\n",
       "      <td>11</td>\n",
       "      <td>0</td>\n",
       "    </tr>\n",
       "    <tr>\n",
       "      <th>17773</th>\n",
       "      <td>Afro Samurai 2: Revenge of Kuma Volume One</td>\n",
       "      <td>PlayStation 4</td>\n",
       "      <td>Head out on a journey of redemption, driven by...</td>\n",
       "      <td>0</td>\n",
       "      <td>0</td>\n",
       "      <td>2015</td>\n",
       "      <td>9</td>\n",
       "      <td>0</td>\n",
       "    </tr>\n",
       "    <tr>\n",
       "      <th>17774</th>\n",
       "      <td>Infestation: Survivor Stories (The War Z)</td>\n",
       "      <td>PC</td>\n",
       "      <td>It has been 5 years since the outbreak, givin...</td>\n",
       "      <td>0</td>\n",
       "      <td>0</td>\n",
       "      <td>2012</td>\n",
       "      <td>10</td>\n",
       "      <td>0</td>\n",
       "    </tr>\n",
       "    <tr>\n",
       "      <th>17775</th>\n",
       "      <td>Leisure Suit Larry: Box Office Bust</td>\n",
       "      <td>PC</td>\n",
       "      <td>The Leisure Suit Larry: Box Office Bust video ...</td>\n",
       "      <td>0</td>\n",
       "      <td>0</td>\n",
       "      <td>2009</td>\n",
       "      <td>3</td>\n",
       "      <td>0</td>\n",
       "    </tr>\n",
       "  </tbody>\n",
       "</table>\n",
       "<p>17776 rows × 8 columns</p>\n",
       "</div>"
      ],
      "text/plain": [
       "                                             name        platform  \\\n",
       "0            The Legend of Zelda: Ocarina of Time     Nintendo 64   \n",
       "1                        Tony Hawk's Pro Skater 2     PlayStation   \n",
       "2                             Grand Theft Auto IV   PlayStation 3   \n",
       "3                                     SoulCalibur       Dreamcast   \n",
       "4                             Grand Theft Auto IV        Xbox 360   \n",
       "...                                           ...             ...   \n",
       "17771                    Fast & Furious: Showdown        Xbox 360   \n",
       "17772                     Drake of the 99 Dragons            Xbox   \n",
       "17773  Afro Samurai 2: Revenge of Kuma Volume One   PlayStation 4   \n",
       "17774   Infestation: Survivor Stories (The War Z)              PC   \n",
       "17775         Leisure Suit Larry: Box Office Bust              PC   \n",
       "\n",
       "                                                 summary  meta_score  \\\n",
       "0      As a young boy, Link is tricked by Ganondorf, ...           1   \n",
       "1      As most major publishers' development efforts ...           1   \n",
       "2       What does the American Dream mean today? For ...           1   \n",
       "3      This is a tale of souls and swords, transcendi...           1   \n",
       "4       What does the American Dream mean today? For ...           1   \n",
       "...                                                  ...         ...   \n",
       "17771  Fast & Furious: Showdown takes some of the fra...           0   \n",
       "17772  Drake is out for revenge in a supernatural Hon...           0   \n",
       "17773  Head out on a journey of redemption, driven by...           0   \n",
       "17774   It has been 5 years since the outbreak, givin...           0   \n",
       "17775  The Leisure Suit Larry: Box Office Bust video ...           0   \n",
       "\n",
       "       user_review  release_year  release_month game_of_the_year  \n",
       "0                1          1998             11                0  \n",
       "1                1          2000              9                0  \n",
       "2                1          2008              4                1  \n",
       "3                1          1999              9                0  \n",
       "4                1          2008              4                1  \n",
       "...            ...           ...            ...              ...  \n",
       "17771            0          2013              5                0  \n",
       "17772            0          2003             11                0  \n",
       "17773            0          2015              9                0  \n",
       "17774            0          2012             10                0  \n",
       "17775            0          2009              3                0  \n",
       "\n",
       "[17776 rows x 8 columns]"
      ]
     },
     "execution_count": 23,
     "metadata": {},
     "output_type": "execute_result"
    }
   ],
   "source": [
    "games_clean"
   ]
  },
  {
   "cell_type": "markdown",
   "id": "6a7c3c65-0562-4694-a901-c1a31a48e9b4",
   "metadata": {},
   "source": [
    "Future EDA ideas:\n",
    "\n",
    "- Popular franchises\n",
    "- Franchise game of the year wins\n",
    "- Platform review count through the years\n"
   ]
  },
  {
   "cell_type": "markdown",
   "id": "1f9def7b-657a-4115-9844-2d1751773c7d",
   "metadata": {},
   "source": [
    "***"
   ]
  },
  {
   "cell_type": "markdown",
   "id": "f591431d-8aea-41c1-8dfd-b21f8a5c06f4",
   "metadata": {},
   "source": [
    "**Save Files**"
   ]
  },
  {
   "cell_type": "code",
   "execution_count": 24,
   "id": "d4d26704-c6fc-494f-a80a-5d0230a81c45",
   "metadata": {},
   "outputs": [
    {
     "data": {
      "text/plain": [
       "['data/games_clean.pkl']"
      ]
     },
     "execution_count": 24,
     "metadata": {},
     "output_type": "execute_result"
    }
   ],
   "source": [
    "# Save games_clean data as pickle file\n",
    "joblib.dump(games_clean, 'data/games_clean.pkl')"
   ]
  },
  {
   "cell_type": "markdown",
   "id": "49b8869b-d142-4e7c-a6b9-0d58166ecd0b",
   "metadata": {},
   "source": [
    "**Load Files**"
   ]
  },
  {
   "cell_type": "code",
   "execution_count": 25,
   "id": "367fffb0-b49f-4125-a1b1-89b9a9b8348d",
   "metadata": {},
   "outputs": [],
   "source": [
    "# Load data\n",
    "games_clean = joblib.load('data/games_clean.pkl')"
   ]
  },
  {
   "cell_type": "markdown",
   "id": "eac6d486-f6c7-48af-92ef-8c7a32b78c31",
   "metadata": {},
   "source": [
    "***"
   ]
  },
  {
   "cell_type": "markdown",
   "id": "7e6a3cc4-33ea-44ca-829d-f797d9e29507",
   "metadata": {
    "tags": []
   },
   "source": [
    "# NLP Preparations <a id=\"c4\"></a>"
   ]
  },
  {
   "cell_type": "code",
   "execution_count": 26,
   "id": "668de625-8fe6-4e28-aeb8-7f776136f9d4",
   "metadata": {},
   "outputs": [],
   "source": [
    "# Create copy to conserve original dataframe\n",
    "games = games_clean.copy()"
   ]
  },
  {
   "cell_type": "code",
   "execution_count": 27,
   "id": "58cc1078-fb8d-4704-b61a-cf76974ce4fe",
   "metadata": {},
   "outputs": [
    {
     "data": {
      "text/html": [
       "<div>\n",
       "<style scoped>\n",
       "    .dataframe tbody tr th:only-of-type {\n",
       "        vertical-align: middle;\n",
       "    }\n",
       "\n",
       "    .dataframe tbody tr th {\n",
       "        vertical-align: top;\n",
       "    }\n",
       "\n",
       "    .dataframe thead th {\n",
       "        text-align: right;\n",
       "    }\n",
       "</style>\n",
       "<table border=\"1\" class=\"dataframe\">\n",
       "  <thead>\n",
       "    <tr style=\"text-align: right;\">\n",
       "      <th></th>\n",
       "      <th>name</th>\n",
       "      <th>platform</th>\n",
       "      <th>summary</th>\n",
       "      <th>meta_score</th>\n",
       "      <th>user_review</th>\n",
       "      <th>release_year</th>\n",
       "      <th>release_month</th>\n",
       "      <th>game_of_the_year</th>\n",
       "    </tr>\n",
       "  </thead>\n",
       "  <tbody>\n",
       "    <tr>\n",
       "      <th>0</th>\n",
       "      <td>The Legend of Zelda: Ocarina of Time</td>\n",
       "      <td>Nintendo 64</td>\n",
       "      <td>As a young boy, Link is tricked by Ganondorf, ...</td>\n",
       "      <td>1</td>\n",
       "      <td>1</td>\n",
       "      <td>1998</td>\n",
       "      <td>11</td>\n",
       "      <td>0</td>\n",
       "    </tr>\n",
       "    <tr>\n",
       "      <th>1</th>\n",
       "      <td>Tony Hawk's Pro Skater 2</td>\n",
       "      <td>PlayStation</td>\n",
       "      <td>As most major publishers' development efforts ...</td>\n",
       "      <td>1</td>\n",
       "      <td>1</td>\n",
       "      <td>2000</td>\n",
       "      <td>9</td>\n",
       "      <td>0</td>\n",
       "    </tr>\n",
       "    <tr>\n",
       "      <th>2</th>\n",
       "      <td>Grand Theft Auto IV</td>\n",
       "      <td>PlayStation 3</td>\n",
       "      <td>What does the American Dream mean today? For ...</td>\n",
       "      <td>1</td>\n",
       "      <td>1</td>\n",
       "      <td>2008</td>\n",
       "      <td>4</td>\n",
       "      <td>1</td>\n",
       "    </tr>\n",
       "    <tr>\n",
       "      <th>3</th>\n",
       "      <td>SoulCalibur</td>\n",
       "      <td>Dreamcast</td>\n",
       "      <td>This is a tale of souls and swords, transcendi...</td>\n",
       "      <td>1</td>\n",
       "      <td>1</td>\n",
       "      <td>1999</td>\n",
       "      <td>9</td>\n",
       "      <td>0</td>\n",
       "    </tr>\n",
       "    <tr>\n",
       "      <th>4</th>\n",
       "      <td>Grand Theft Auto IV</td>\n",
       "      <td>Xbox 360</td>\n",
       "      <td>What does the American Dream mean today? For ...</td>\n",
       "      <td>1</td>\n",
       "      <td>1</td>\n",
       "      <td>2008</td>\n",
       "      <td>4</td>\n",
       "      <td>1</td>\n",
       "    </tr>\n",
       "  </tbody>\n",
       "</table>\n",
       "</div>"
      ],
      "text/plain": [
       "                                   name        platform  \\\n",
       "0  The Legend of Zelda: Ocarina of Time     Nintendo 64   \n",
       "1              Tony Hawk's Pro Skater 2     PlayStation   \n",
       "2                   Grand Theft Auto IV   PlayStation 3   \n",
       "3                           SoulCalibur       Dreamcast   \n",
       "4                   Grand Theft Auto IV        Xbox 360   \n",
       "\n",
       "                                             summary  meta_score  user_review  \\\n",
       "0  As a young boy, Link is tricked by Ganondorf, ...           1            1   \n",
       "1  As most major publishers' development efforts ...           1            1   \n",
       "2   What does the American Dream mean today? For ...           1            1   \n",
       "3  This is a tale of souls and swords, transcendi...           1            1   \n",
       "4   What does the American Dream mean today? For ...           1            1   \n",
       "\n",
       "   release_year  release_month game_of_the_year  \n",
       "0          1998             11                0  \n",
       "1          2000              9                0  \n",
       "2          2008              4                1  \n",
       "3          1999              9                0  \n",
       "4          2008              4                1  "
      ]
     },
     "execution_count": 27,
     "metadata": {},
     "output_type": "execute_result"
    }
   ],
   "source": [
    "# Check dataframe\n",
    "games.head()"
   ]
  },
  {
   "cell_type": "markdown",
   "id": "22707300-8049-448f-a5b6-9888bff77b0d",
   "metadata": {},
   "source": [
    "We created an exact copy of our games_clean data! It looks good."
   ]
  },
  {
   "cell_type": "markdown",
   "id": "e5333e89-fe9e-4b54-b06c-553257ebd8f2",
   "metadata": {
    "tags": []
   },
   "source": [
    "#### Dropping Redundant Columns"
   ]
  },
  {
   "cell_type": "markdown",
   "id": "3c3e1570-0b63-4921-bb60-1eb02fcbff45",
   "metadata": {},
   "source": [
    "My whole business value is to be able to go up to developers, publishers, and gamers and say \"these characteristics of the game are important to get a *low/high* meta score\". I kept all columns initially to showcase some cleaning steps and EDA that may be used in later analysis. However, I will be dropping some columns to focus on my corpus.\n",
    "\n",
    "I am only using the summary column to keep my model simple. I will add other features later on. \n",
    "\n",
    "**Columns to Drop**:\n",
    "- `name`: This is not useful in terms of acquiring game features. Characteristics of the game can be acquired from the summary itself. In other words, the title is spoken for through the summary column. \n",
    "\n",
    "- `user_review` : This is not my focus to help predict my meta score. With my meta score being my **main** predicted value, I will not use user reviews. (Possibly add later in feature engineering)\n",
    "\n",
    "- `year` & `month`: Not important to meta score because these are past information and cannot be replicated. For example, I cannot say \"to get a good metascore, release in the year 2004\". This information is not helpful in the end.\n",
    "\n",
    "- `game of the year`: This award is given after a metascore has been established, and is therefore not useful when **predicting a non-existent meta score**. (Possibly add later in feature engineering)\n",
    "\n",
    "- `platform`: this will be dropped since I want to focus on solely the game qualities. (Possibly add later in feature engineering)\n"
   ]
  },
  {
   "cell_type": "markdown",
   "id": "5586fdb6-c530-4e50-9101-5b81627be7a1",
   "metadata": {},
   "source": [
    "---"
   ]
  },
  {
   "cell_type": "code",
   "execution_count": 28,
   "id": "242e75d1-e7e9-45f2-b892-7e948abc5c4c",
   "metadata": {},
   "outputs": [],
   "source": [
    "# Drop Columns\n",
    "games= games.drop(columns=['name', 'user_review', 'release_year', 'release_month', 'game_of_the_year', 'platform'])"
   ]
  },
  {
   "cell_type": "code",
   "execution_count": 29,
   "id": "0c65da61-be25-49de-b81d-c805df0ff531",
   "metadata": {},
   "outputs": [
    {
     "data": {
      "text/html": [
       "<div>\n",
       "<style scoped>\n",
       "    .dataframe tbody tr th:only-of-type {\n",
       "        vertical-align: middle;\n",
       "    }\n",
       "\n",
       "    .dataframe tbody tr th {\n",
       "        vertical-align: top;\n",
       "    }\n",
       "\n",
       "    .dataframe thead th {\n",
       "        text-align: right;\n",
       "    }\n",
       "</style>\n",
       "<table border=\"1\" class=\"dataframe\">\n",
       "  <thead>\n",
       "    <tr style=\"text-align: right;\">\n",
       "      <th></th>\n",
       "      <th>summary</th>\n",
       "      <th>meta_score</th>\n",
       "    </tr>\n",
       "  </thead>\n",
       "  <tbody>\n",
       "    <tr>\n",
       "      <th>0</th>\n",
       "      <td>As a young boy, Link is tricked by Ganondorf, ...</td>\n",
       "      <td>1</td>\n",
       "    </tr>\n",
       "    <tr>\n",
       "      <th>1</th>\n",
       "      <td>As most major publishers' development efforts ...</td>\n",
       "      <td>1</td>\n",
       "    </tr>\n",
       "    <tr>\n",
       "      <th>2</th>\n",
       "      <td>What does the American Dream mean today? For ...</td>\n",
       "      <td>1</td>\n",
       "    </tr>\n",
       "    <tr>\n",
       "      <th>3</th>\n",
       "      <td>This is a tale of souls and swords, transcendi...</td>\n",
       "      <td>1</td>\n",
       "    </tr>\n",
       "    <tr>\n",
       "      <th>4</th>\n",
       "      <td>What does the American Dream mean today? For ...</td>\n",
       "      <td>1</td>\n",
       "    </tr>\n",
       "  </tbody>\n",
       "</table>\n",
       "</div>"
      ],
      "text/plain": [
       "                                             summary  meta_score\n",
       "0  As a young boy, Link is tricked by Ganondorf, ...           1\n",
       "1  As most major publishers' development efforts ...           1\n",
       "2   What does the American Dream mean today? For ...           1\n",
       "3  This is a tale of souls and swords, transcendi...           1\n",
       "4   What does the American Dream mean today? For ...           1"
      ]
     },
     "execution_count": 29,
     "metadata": {},
     "output_type": "execute_result"
    }
   ],
   "source": [
    "# View Data\n",
    "games.head()"
   ]
  },
  {
   "cell_type": "code",
   "execution_count": 30,
   "id": "6deade5c-028f-4ce5-a927-93091c128d42",
   "metadata": {},
   "outputs": [
    {
     "name": "stdout",
     "output_type": "stream",
     "text": [
      " Shape of `games` (17776, 2)\n"
     ]
    }
   ],
   "source": [
    "# Shape\n",
    "print(f\" Shape of `games` {games.shape}\")"
   ]
  },
  {
   "cell_type": "code",
   "execution_count": 31,
   "id": "7ec6fd45-9d23-4e48-8020-19095db42cc8",
   "metadata": {},
   "outputs": [
    {
     "name": "stdout",
     "output_type": "stream",
     "text": [
      "<class 'pandas.core.frame.DataFrame'>\n",
      "RangeIndex: 17776 entries, 0 to 17775\n",
      "Data columns (total 2 columns):\n",
      " #   Column      Non-Null Count  Dtype \n",
      "---  ------      --------------  ----- \n",
      " 0   summary     17776 non-null  object\n",
      " 1   meta_score  17776 non-null  int64 \n",
      "dtypes: int64(1), object(1)\n",
      "memory usage: 277.9+ KB\n"
     ]
    }
   ],
   "source": [
    "# Summary information on datatypes and nulls\n",
    "games.info()"
   ]
  },
  {
   "cell_type": "code",
   "execution_count": 32,
   "id": "50d23dd7-f9df-4a5b-bce9-821e6c5a8621",
   "metadata": {},
   "outputs": [
    {
     "name": "stdout",
     "output_type": "stream",
     "text": [
      "Null Count\n"
     ]
    },
    {
     "data": {
      "text/plain": [
       "summary       0\n",
       "meta_score    0\n",
       "dtype: int64"
      ]
     },
     "execution_count": 32,
     "metadata": {},
     "output_type": "execute_result"
    }
   ],
   "source": [
    "# Null Count\n",
    "print(\"Null Count\")\n",
    "games.isna().sum()"
   ]
  },
  {
   "cell_type": "markdown",
   "id": "173b5582-40e9-4bea-8e75-4179253492db",
   "metadata": {},
   "source": [
    "Since we did the cleaning before hand I just want to do a quick sanity check that there are no nulls, that the datatypes remain consistent, and the values are correct. Here, the datatypes look good!"
   ]
  },
  {
   "cell_type": "markdown",
   "id": "dd25c7ad-8a38-4155-a9b8-aa7f8075ba05",
   "metadata": {},
   "source": [
    "---"
   ]
  },
  {
   "cell_type": "markdown",
   "id": "e7fe7973-654a-4d68-83e2-e399fccca4ef",
   "metadata": {},
   "source": [
    "**Save Files**"
   ]
  },
  {
   "cell_type": "code",
   "execution_count": 33,
   "id": "94ffcb20-bdb6-433c-b0aa-e99d68184d12",
   "metadata": {},
   "outputs": [
    {
     "data": {
      "text/plain": [
       "['data/games.pkl']"
      ]
     },
     "execution_count": 33,
     "metadata": {},
     "output_type": "execute_result"
    }
   ],
   "source": [
    "# Save games_clean data as pickle file\n",
    "joblib.dump(games, 'data/games.pkl')"
   ]
  },
  {
   "cell_type": "markdown",
   "id": "9136d237-fef6-4d67-9a43-466176824889",
   "metadata": {},
   "source": [
    "***"
   ]
  },
  {
   "cell_type": "markdown",
   "id": "26214cda-5e8b-411b-9e86-c1d94924f184",
   "metadata": {},
   "source": [
    "**Notebook Ending Remarks**\n",
    "\n",
    "In the next notebook, I will be performing some Modeling. See Notebook *4-Modeling*."
   ]
  },
  {
   "cell_type": "markdown",
   "id": "8064ddeb-9f06-4286-9a28-0a19fbbccfe5",
   "metadata": {},
   "source": [
    "***"
   ]
  }
 ],
 "metadata": {
  "kernelspec": {
   "display_name": "Python 3 (ipykernel)",
   "language": "python",
   "name": "python3"
  },
  "language_info": {
   "codemirror_mode": {
    "name": "ipython",
    "version": 3
   },
   "file_extension": ".py",
   "mimetype": "text/x-python",
   "name": "python",
   "nbconvert_exporter": "python",
   "pygments_lexer": "ipython3",
   "version": "3.9.7"
  },
  "toc-autonumbering": false
 },
 "nbformat": 4,
 "nbformat_minor": 5
}
