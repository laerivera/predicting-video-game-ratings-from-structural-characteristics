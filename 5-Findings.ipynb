{
 "cells": [
  {
   "cell_type": "markdown",
   "id": "1a1ce734-765c-4cb9-9ac1-e62363a21eef",
   "metadata": {},
   "source": [
    "# G.G, Good Game! Investigating the Structural Characteristics that Make Highly-Rated Video Games"
   ]
  },
  {
   "cell_type": "markdown",
   "id": "1ad1ec84-2c4d-4331-be9d-3566e2a0ff1e",
   "metadata": {
    "tags": []
   },
   "source": [
    "# Notebook 5 - Findings and Insights\n",
    "\n",
    "\n",
    "&nbsp;\n",
    "\n",
    "**By: [Lae Rivera](https://github.com/laerivera)**\n",
    "\n",
    "**BrainStation Data Science**\n",
    "\n",
    "**April 4, 2022**\n",
    "\n",
    "In this notebook, I have finished my modeling and will now want to focus on gaining useful and actionable insights that I can apply to the project."
   ]
  },
  {
   "cell_type": "markdown",
   "id": "07eea8e2-435f-4405-8980-5bb7d13cd99a",
   "metadata": {},
   "source": [
    "***"
   ]
  },
  {
   "cell_type": "markdown",
   "id": "f9d702c0-7661-4c99-a334-7d0d183c670c",
   "metadata": {},
   "source": [
    "## Notebook Contents\n",
    "\n",
    "1. [**Loading Dependencies**](#e1)<br>\n",
    "    1.1 [Tokenizer Dependency](#e1.1)<br>\n",
    "    1.2 [Variables Dependency](#e1.2)<br>\n",
    "    \n",
    "2. [**Model Evaluation**](#e2)<br>\n",
    "\n",
    "3. [**Logistic Regression: Count Vectorizer**](#e3)<br>\n",
    "    3.1 [Extract Features](#e3.1)<br>\n",
    "    3.2 [Extract Coefficients](#e3.2)<br>\n",
    "    \n",
    "4. [**Logistic Regression: TF-IDF Vectorizer/GridSearch 5**](#e4)<br>\n",
    "    4.1 [Extract Features](#e4.1)<br>\n",
    "    4.2 [Extract Coefficients](#e4.2)<br>\n",
    "\n",
    "5. [**Findings and Actionable Insights**](#e5)<br>\n",
    "    4.1 [Actionable Insights](#e5.1)<br>\n",
    "    4.2 [The Next Steps](#e5.2)<br>\n"
   ]
  },
  {
   "cell_type": "markdown",
   "id": "e7d9ab20-e70c-4b3d-8d0a-255d67bf4350",
   "metadata": {},
   "source": [
    "***"
   ]
  },
  {
   "cell_type": "markdown",
   "id": "bfc5f5d8-c98e-4f38-ac46-1643ee7a9bdb",
   "metadata": {},
   "source": [
    "**Importing Libraries**"
   ]
  },
  {
   "cell_type": "code",
   "execution_count": 1,
   "id": "ec4c10f0-18b6-4538-9336-6568f102fc13",
   "metadata": {},
   "outputs": [],
   "source": [
    "# Importing libraries\n",
    "\n",
    "# Main Libraries\n",
    "import numpy as np\n",
    "import pandas as pd\n",
    "import matplotlib.pyplot as plt\n",
    "import seaborn as sns\n",
    "import random\n",
    "\n",
    "# NLP \n",
    "import nltk\n",
    "import string\n",
    "import scipy.sparse\n",
    "\n",
    "# Feature Extraction\n",
    "from sklearn.feature_extraction.text import TfidfVectorizer\n",
    "from sklearn.feature_extraction.text import CountVectorizer\n",
    "from sklearn.preprocessing import OneHotEncoder\n",
    "\n",
    "# Metrics\n",
    "from sklearn.metrics import plot_confusion_matrix, confusion_matrix\n",
    "from sklearn.metrics import precision_score\n",
    "from sklearn.metrics import recall_score\n",
    "from sklearn.metrics import f1_score\n",
    "from sklearn.metrics import accuracy_score\n",
    "from sklearn.metrics import make_scorer\n",
    "from sklearn.metrics import classification_report\n",
    "\n",
    "# Dummy \n",
    "from sklearn.dummy import DummyClassifier\n",
    "\n",
    "# Models\n",
    "from sklearn.compose import ColumnTransformer\n",
    "from sklearn.pipeline import Pipeline\n",
    "from sklearn.model_selection import GridSearchCV\n",
    "import joblib\n",
    "\n",
    "from sklearn.model_selection import train_test_split\n",
    "from sklearn.linear_model import LogisticRegression\n",
    "from sklearn.neighbors import KNeighborsClassifier\n",
    "from sklearn.tree import DecisionTreeClassifier\n",
    "from sklearn.ensemble import RandomForestClassifier"
   ]
  },
  {
   "cell_type": "markdown",
   "id": "6aeb3b17-5ee1-4da1-b3e7-b834102cea5f",
   "metadata": {},
   "source": [
    "***"
   ]
  },
  {
   "cell_type": "markdown",
   "id": "529fb1ad-e59c-4642-9b7c-87b68c27d207",
   "metadata": {
    "tags": []
   },
   "source": [
    "# Loading Dependencies <a id=\"e1\"></a>"
   ]
  },
  {
   "cell_type": "markdown",
   "id": "22048f1a-fdbe-4975-9add-2483d999945a",
   "metadata": {},
   "source": [
    "Before I can load the pickle files, I need to run the series of code blocks that the data is dependent on for continuity."
   ]
  },
  {
   "cell_type": "markdown",
   "id": "10d0fe8e-9af9-4d0e-87e1-5d532f46ef47",
   "metadata": {},
   "source": [
    "**Loading Data**"
   ]
  },
  {
   "cell_type": "markdown",
   "id": "49193098-6d04-4a99-9836-be2298578192",
   "metadata": {},
   "source": [
    "[Load DF Pickle](https://www.codegrepper.com/code-examples/python/python+save+dataframe+to+pkl)"
   ]
  },
  {
   "cell_type": "code",
   "execution_count": 2,
   "id": "e55fa483-005d-4db4-a539-965f4b3beae2",
   "metadata": {},
   "outputs": [],
   "source": [
    "# Load data\n",
    "games = joblib.load('data/games.pkl')\n",
    "games_clean = joblib.load('data/games_clean.pkl')"
   ]
  },
  {
   "cell_type": "markdown",
   "id": "3c3c62b8-f42e-4950-b1d0-26ec18e05343",
   "metadata": {
    "tags": []
   },
   "source": [
    "## Tokenizer Dependency <a id=\"e1.1\"></a>"
   ]
  },
  {
   "cell_type": "markdown",
   "id": "86894729-b593-4c8f-8836-2feffdf1906f",
   "metadata": {
    "tags": []
   },
   "source": [
    "**Stemming**"
   ]
  },
  {
   "cell_type": "markdown",
   "id": "74b13cc5-a7b8-45fd-a935-ac56193eb740",
   "metadata": {},
   "source": [
    "Before I fit the model, I will be calling a stemming function from Porter Stemer (nltk). This will cut off word-ends to lower the word to its basic root. We will be adding this process to the \"tokenizer\" parameter of the vectorizers."
   ]
  },
  {
   "cell_type": "code",
   "execution_count": 3,
   "id": "b8aacccb-f377-4070-902f-38601fcd8760",
   "metadata": {},
   "outputs": [],
   "source": [
    "# importing stemmer\n",
    "stemmer = nltk.stem.PorterStemmer()"
   ]
  },
  {
   "cell_type": "markdown",
   "id": "8e7144b2-cac1-47c1-aa54-cc5c5ea4bfef",
   "metadata": {
    "tags": []
   },
   "source": [
    "**Removing Punctuation**"
   ]
  },
  {
   "cell_type": "markdown",
   "id": "2569d17d-710e-48dd-87f3-83c24a00d1fd",
   "metadata": {},
   "source": [
    "This returns a list of common punctuations. We will include this into the tokenizer. We want to remove these as it does not really serve significant value to our predicted score. "
   ]
  },
  {
   "cell_type": "code",
   "execution_count": 4,
   "id": "9138569b-5bb9-41dc-9191-4b91810fa93a",
   "metadata": {},
   "outputs": [
    {
     "name": "stdout",
     "output_type": "stream",
     "text": [
      "!\"#$%&'()*+,-./:;<=>?@[\\]^_`{|}~\n"
     ]
    }
   ],
   "source": [
    "# import string & lists punctuations\n",
    "print(string.punctuation)"
   ]
  },
  {
   "cell_type": "markdown",
   "id": "002d53cd-f4d1-4c61-89f9-ceb5cff8c211",
   "metadata": {},
   "source": [
    "This returns a list of the most common punctuations. This is to show me what types will be removed."
   ]
  },
  {
   "cell_type": "markdown",
   "id": "8199bd95-5e9e-4fbb-a5c1-7ddba8f0219c",
   "metadata": {
    "tags": []
   },
   "source": [
    "**Stopwords**"
   ]
  },
  {
   "cell_type": "code",
   "execution_count": 5,
   "id": "e0fe24a9-1d0f-456d-a50a-1f8c496800a8",
   "metadata": {},
   "outputs": [
    {
     "name": "stderr",
     "output_type": "stream",
     "text": [
      "[nltk_data] Downloading package stopwords to\n",
      "[nltk_data]     /Users/laerivera/nltk_data...\n",
      "[nltk_data]   Package stopwords is already up-to-date!\n"
     ]
    }
   ],
   "source": [
    "nltk.download('stopwords')\n",
    "from nltk.corpus import stopwords\n",
    "\n",
    "ENGLISH_STOP_WORDS = stopwords.words('english')"
   ]
  },
  {
   "cell_type": "code",
   "execution_count": 6,
   "id": "9f64632d-b2ed-44ca-98c8-2bf346877c06",
   "metadata": {
    "tags": []
   },
   "outputs": [
    {
     "name": "stdout",
     "output_type": "stream",
     "text": [
      "List of English Stop Words:\n",
      "['i', 'me', 'my', 'myself', 'we', 'our', 'ours', 'ourselves', 'you', \"you're\", \"you've\", \"you'll\", \"you'd\", 'your', 'yours', 'yourself', 'yourselves', 'he', 'him', 'his', 'himself', 'she', \"she's\", 'her', 'hers', 'herself', 'it', \"it's\", 'its', 'itself', 'they', 'them', 'their', 'theirs', 'themselves', 'what', 'which', 'who', 'whom', 'this', 'that', \"that'll\", 'these', 'those', 'am', 'is', 'are', 'was', 'were', 'be', 'been', 'being', 'have', 'has', 'had', 'having', 'do', 'does', 'did', 'doing', 'a', 'an', 'the', 'and', 'but', 'if', 'or', 'because', 'as', 'until', 'while', 'of', 'at', 'by', 'for', 'with', 'about', 'against', 'between', 'into', 'through', 'during', 'before', 'after', 'above', 'below', 'to', 'from', 'up', 'down', 'in', 'out', 'on', 'off', 'over', 'under', 'again', 'further', 'then', 'once', 'here', 'there', 'when', 'where', 'why', 'how', 'all', 'any', 'both', 'each', 'few', 'more', 'most', 'other', 'some', 'such', 'no', 'nor', 'not', 'only', 'own', 'same', 'so', 'than', 'too', 'very', 's', 't', 'can', 'will', 'just', 'don', \"don't\", 'should', \"should've\", 'now', 'd', 'll', 'm', 'o', 're', 've', 'y', 'ain', 'aren', \"aren't\", 'couldn', \"couldn't\", 'didn', \"didn't\", 'doesn', \"doesn't\", 'hadn', \"hadn't\", 'hasn', \"hasn't\", 'haven', \"haven't\", 'isn', \"isn't\", 'ma', 'mightn', \"mightn't\", 'mustn', \"mustn't\", 'needn', \"needn't\", 'shan', \"shan't\", 'shouldn', \"shouldn't\", 'wasn', \"wasn't\", 'weren', \"weren't\", 'won', \"won't\", 'wouldn', \"wouldn't\"]\n"
     ]
    }
   ],
   "source": [
    "print(\"List of English Stop Words:\")\n",
    "print(ENGLISH_STOP_WORDS)"
   ]
  },
  {
   "cell_type": "markdown",
   "id": "b6391c3d-e08e-49f0-b7e2-e9aa4cd1cea7",
   "metadata": {},
   "source": [
    "---"
   ]
  },
  {
   "cell_type": "markdown",
   "id": "c85fe560-c592-4596-a646-fdd2b11f2a55",
   "metadata": {},
   "source": [
    "**Final Tokenizer**\n",
    "\n",
    "This tokenizer will be included during vectorization that will run my steps accordingly: remove punctuation, set letters to lowercase, split the sentences into words, remove stop words, stem the words."
   ]
  },
  {
   "cell_type": "code",
   "execution_count": 7,
   "id": "a21fbeb5-1ec5-485a-87a9-249f76567099",
   "metadata": {},
   "outputs": [],
   "source": [
    " def my_tokenizer(sentence):\n",
    "    # remove punctuation and set to lower case\n",
    "    for punctuation_mark in string.punctuation:\n",
    "        sentence = sentence.replace(punctuation_mark,'').lower()\n",
    "\n",
    "    # split sentence into words\n",
    "    listofwords = sentence.split(' ')\n",
    "    listofstemmed_words = []\n",
    "    \n",
    "    # remove stopwords and any tokens that are just empty strings\n",
    "    for word in listofwords:\n",
    "        if (not word in ENGLISH_STOP_WORDS) and (word!=''):\n",
    "            # Stem words\n",
    "            stemmed_word = stemmer.stem(word)\n",
    "            listofstemmed_words.append(stemmed_word)\n",
    "\n",
    "    return listofstemmed_words"
   ]
  },
  {
   "cell_type": "markdown",
   "id": "438d3ca0-ec95-44c5-8e72-8fe4c65bf193",
   "metadata": {
    "tags": []
   },
   "source": [
    "## Variables Dependency <a id=\"e1.2\"></a>"
   ]
  },
  {
   "cell_type": "markdown",
   "id": "d3ca9243-a22d-4131-ae4a-ce4a56406512",
   "metadata": {},
   "source": [
    "**Create Dataframe Copy**"
   ]
  },
  {
   "cell_type": "code",
   "execution_count": 8,
   "id": "079f3ed5-9dc9-42b7-9563-63610d8f80e7",
   "metadata": {},
   "outputs": [],
   "source": [
    "# Create a copy of the clean dataframe\n",
    "games_2 = games_clean.copy()"
   ]
  },
  {
   "cell_type": "code",
   "execution_count": 9,
   "id": "9ed6899b-54ca-417e-8c6f-bf3e0f06309c",
   "metadata": {},
   "outputs": [],
   "source": [
    "# Keeping the columns I need only\n",
    "games_2 = games_2.drop(columns=['name', 'release_year', 'release_month']) # drop columns I won't need"
   ]
  },
  {
   "cell_type": "markdown",
   "id": "8f18a057-287e-48ae-a4f0-87ee8fe7a48b",
   "metadata": {},
   "source": [
    "Recall: I am only adding 'Platform', 'User Review, and 'Game of the Year' as added features."
   ]
  },
  {
   "cell_type": "markdown",
   "id": "702442b0-e3e1-4ce5-ade1-4b865a9b4c38",
   "metadata": {},
   "source": [
    "**Defining Variables**"
   ]
  },
  {
   "cell_type": "code",
   "execution_count": 10,
   "id": "9b6061dd-d694-41a4-8235-a9f00852bd00",
   "metadata": {},
   "outputs": [],
   "source": [
    "# Define X and y\n",
    "X2 = games_2.drop(columns=['meta_score']) # X with new features added\n",
    "y2 = games_2['meta_score'] # target"
   ]
  },
  {
   "cell_type": "markdown",
   "id": "258a3625-107d-46e6-9725-cdaf9ff9935a",
   "metadata": {},
   "source": [
    "**Train/Test Split**"
   ]
  },
  {
   "cell_type": "code",
   "execution_count": 11,
   "id": "ec3866aa-6b8f-4a68-9025-9cf74e929144",
   "metadata": {},
   "outputs": [],
   "source": [
    "# Setting test size to 20%, and training at 80%\n",
    "X_train_2, X_test_2, y_train_2, y_test_2 = train_test_split(X2, y2, test_size=0.20, random_state=1) # same random state"
   ]
  },
  {
   "cell_type": "markdown",
   "id": "0483566e-df44-4621-8e19-3dffb79659d7",
   "metadata": {
    "tags": []
   },
   "source": [
    "## Helper Function"
   ]
  },
  {
   "cell_type": "markdown",
   "id": "3beca08d-580f-45e3-af53-e72b5de504ae",
   "metadata": {},
   "source": [
    "Due to the long execution times, I will use a customized helper function by [Andrew Dang](https://github.com/andrew-dang) to reduce running models when it is already saved in a `.pkl` file."
   ]
  },
  {
   "cell_type": "code",
   "execution_count": 12,
   "id": "0f648dcd-1995-4c41-8aaf-964751618d61",
   "metadata": {},
   "outputs": [],
   "source": [
    "def load_fitted_models():\n",
    "    '''\n",
    "    Function that loads fitted models and sets the model_loaded_flag to True. \n",
    "    Saves readers the trouble of having to fit all the models every time they open the notebook.\n",
    "    \n",
    "    INPUT:\n",
    "    ------\n",
    "    None\n",
    "    \n",
    "    OUTPUT:\n",
    "    -------\n",
    "    model_dict: a dictionary that contain fitted models\n",
    "    models_loaded_flag: A boolean. If set to True, most models in the notebook will not undergo \n",
    "                        fitting, and load models from the dictionary instead.\n",
    "\n",
    "    '''\n",
    "    \n",
    "    model_dict = {} # Filling in dictionary with models\n",
    "    model_dict['gs5'] = joblib.load('data/fitted_gridsearchcv5.pkl')\n",
    "    \n",
    "    models_loaded_flag = True # set to false if re-executing the training of models\n",
    "    return model_dict, models_loaded_flag\n"
   ]
  },
  {
   "cell_type": "code",
   "execution_count": 13,
   "id": "ce3f0a53-712a-43ac-bb8a-22dd97b95585",
   "metadata": {},
   "outputs": [],
   "source": [
    "# Load the fitted models\n",
    "model_dict, models_loaded_flag = load_fitted_models()"
   ]
  },
  {
   "cell_type": "markdown",
   "id": "2d277696-5c71-40b1-9f4d-37cc95944f58",
   "metadata": {},
   "source": [
    "**Loading After Dependencies**"
   ]
  },
  {
   "cell_type": "code",
   "execution_count": 14,
   "id": "eb696c1f-a4df-498d-af9d-ce7fe6936a25",
   "metadata": {},
   "outputs": [],
   "source": [
    "# Load data \n",
    "gs4 = joblib.load('data/fitted_gridsearchcv4.pkl' ) #gridsearch 4 results\n",
    "gs5 = joblib.load('data/fitted_gridsearchcv5.pkl' ) #gridsearch5 results\n",
    "gs_full_df = joblib.load('data/gs_full_df.pkl') # load"
   ]
  },
  {
   "cell_type": "markdown",
   "id": "74607848-4d7c-4442-b2b8-9df806145dbd",
   "metadata": {},
   "source": [
    "\n",
    "***"
   ]
  },
  {
   "cell_type": "markdown",
   "id": "b26db8da-741c-4f6a-b9e8-b77f7e744229",
   "metadata": {},
   "source": [
    "# Model Evaluation <a id=\"e2\"></a>"
   ]
  },
  {
   "cell_type": "code",
   "execution_count": 15,
   "id": "1ad825a7-fff4-41cf-9ad6-001b20ee8e55",
   "metadata": {},
   "outputs": [
    {
     "data": {
      "text/html": [
       "<div>\n",
       "<style scoped>\n",
       "    .dataframe tbody tr th:only-of-type {\n",
       "        vertical-align: middle;\n",
       "    }\n",
       "\n",
       "    .dataframe tbody tr th {\n",
       "        vertical-align: top;\n",
       "    }\n",
       "\n",
       "    .dataframe thead th {\n",
       "        text-align: right;\n",
       "    }\n",
       "</style>\n",
       "<table border=\"1\" class=\"dataframe\">\n",
       "  <thead>\n",
       "    <tr style=\"text-align: right;\">\n",
       "      <th></th>\n",
       "      <th>Title</th>\n",
       "      <th>Best_Estimator</th>\n",
       "      <th>Best_Train_Score</th>\n",
       "      <th>Best_Test_Score</th>\n",
       "    </tr>\n",
       "  </thead>\n",
       "  <tbody>\n",
       "    <tr>\n",
       "      <th>0</th>\n",
       "      <td>Dummy</td>\n",
       "      <td>Dummy Classifier</td>\n",
       "      <td></td>\n",
       "      <td>51.07</td>\n",
       "    </tr>\n",
       "    <tr>\n",
       "      <th>1</th>\n",
       "      <td>GRIDSEARCH 1</td>\n",
       "      <td>(TfidfVectorizer(min_df=5, tokenizer=&lt;function...</td>\n",
       "      <td>95.69</td>\n",
       "      <td>71.23</td>\n",
       "    </tr>\n",
       "    <tr>\n",
       "      <th>2</th>\n",
       "      <td>GRIDSEARCH 2</td>\n",
       "      <td>(CountVectorizer(min_df=5, tokenizer=&lt;function...</td>\n",
       "      <td>91.65</td>\n",
       "      <td>68.81</td>\n",
       "    </tr>\n",
       "    <tr>\n",
       "      <th>3</th>\n",
       "      <td>GRIDSEARCH 3</td>\n",
       "      <td>(ColumnTransformer(transformers=[('platform_tr...</td>\n",
       "      <td>96.58</td>\n",
       "      <td>69.52</td>\n",
       "    </tr>\n",
       "    <tr>\n",
       "      <th>4</th>\n",
       "      <td>GRIDSEARCH 4</td>\n",
       "      <td>(ColumnTransformer(transformers=[('platform_tr...</td>\n",
       "      <td>96.58</td>\n",
       "      <td>69.52</td>\n",
       "    </tr>\n",
       "  </tbody>\n",
       "</table>\n",
       "</div>"
      ],
      "text/plain": [
       "          Title                                     Best_Estimator  \\\n",
       "0         Dummy                                   Dummy Classifier   \n",
       "1  GRIDSEARCH 1  (TfidfVectorizer(min_df=5, tokenizer=<function...   \n",
       "2  GRIDSEARCH 2  (CountVectorizer(min_df=5, tokenizer=<function...   \n",
       "3  GRIDSEARCH 3  (ColumnTransformer(transformers=[('platform_tr...   \n",
       "4  GRIDSEARCH 4  (ColumnTransformer(transformers=[('platform_tr...   \n",
       "\n",
       "  Best_Train_Score  Best_Test_Score  \n",
       "0                             51.07  \n",
       "1            95.69            71.23  \n",
       "2            91.65            68.81  \n",
       "3            96.58            69.52  \n",
       "4            96.58            69.52  "
      ]
     },
     "execution_count": 15,
     "metadata": {},
     "output_type": "execute_result"
    }
   ],
   "source": [
    "gs_full_df"
   ]
  },
  {
   "cell_type": "markdown",
   "id": "27724cfc-7edc-47a0-9ff1-d9199e358055",
   "metadata": {},
   "source": [
    "Typically, a confusion matrix along with the F1, precision, and recall scores will be assessed. However, since my data is fairly balanced, accuracy is the best performance metric to use (as explained earlier). \n",
    "\n",
    "Here we can see that all models did significantly better than the dummy classifier, which returned a test score of 51%. *All models scored above this threshold set*; all of them scored roughly ~20% higher than the dummy. This suggests that my optimal models from the gridsearch did way better than just random guessing, and suggests the models learned quite well. \n",
    "\n",
    "On the downside, there is a substantial amount of overfitting happening despite regularization, cross validation, and hyperparameter tuning being performed, which suggests the data has a lot of noise present, which disrupts the learning process. Essentially, this alludes to the model having trouble generalizing to unseen data, which negatively affects its predictive capabilities. One possible explanation is that there are different tokens that were on the training side, and not on the test side, thus the introduction of these words is difficult for the model to interpret and classify during testing. The remedy to this is further pre-processing and cleaning——a task that may be done in future iterations of this project.\n",
    "\n",
    "Overall, despite the large amounts of overfitting, I can argue that a ~70% test score is *still* quite **usable** and sufficient enough in this specific application. In other words, this model can still be usable, despite not being quite \"optimal\", even if steps to achieve optimal results were undertaken.\n",
    "\n",
    "\n",
    "\n",
    "*Note*:It's worth noting that cross validation scores were around the same range as test scores. Maybe off by just a few percentage points (1-2%)."
   ]
  },
  {
   "cell_type": "markdown",
   "id": "d5bb1cd5-dae3-4860-b9e0-5a94efc19f60",
   "metadata": {},
   "source": [
    "***"
   ]
  },
  {
   "cell_type": "markdown",
   "id": "0d97922d-d4a6-42b0-9357-15b9681c965f",
   "metadata": {
    "tags": []
   },
   "source": [
    "# Logisitic Regression Count Vectorizer <a id=\"e3\"></a>"
   ]
  },
  {
   "cell_type": "markdown",
   "id": "4e93de12-cbc1-47a4-a737-23a61521ff87",
   "metadata": {},
   "source": [
    "Since the most optimal model was a Logistic Regression, I can then begin to gather insights. I can do this by looking at the coefficients of model that contribute towards whether a game is rated low or high. The plan is to gather the features and coefficients and find the most significant contributors to a high or low meta score.\n",
    "\n",
    "**Workflow**:\n",
    "- Extract Features\n",
    "- Clean Features\n",
    "- Extract Coefficients\n",
    "- Pair Features and Coefficients\n",
    "- Plot Features and Coefficients\n",
    "***"
   ]
  },
  {
   "cell_type": "markdown",
   "id": "73703e1b-1694-451f-8a84-5ce71a4b12b6",
   "metadata": {
    "tags": []
   },
   "source": [
    "### Extract Features <a id=\"e3.1\"></a>"
   ]
  },
  {
   "cell_type": "markdown",
   "id": "ebc0c804-c8b7-4158-aea9-aa7f3e66b090",
   "metadata": {},
   "source": [
    "Here, I plan on calling on the GridSearchCV 4's best estimator then acquiring the feature names from the named step 'transformer'. Since I added the vectorizers and one hot encoder in the 'tranformer' portion of the pipeline(via ColumnTransformer()), I can call on the steps/attributes of the pipeline and extract my data from that."
   ]
  },
  {
   "cell_type": "code",
   "execution_count": 16,
   "id": "87f8dae4-c104-401f-af36-b16dffd317cd",
   "metadata": {},
   "outputs": [],
   "source": [
    "# Extract Feature Names\n",
    "gs4_features = gs4.best_estimator_.named_steps['transformer'].get_feature_names() # get features of vectorizer passed through the column transformer"
   ]
  },
  {
   "cell_type": "code",
   "execution_count": 17,
   "id": "a9bfbfe7-f00f-4093-a191-a8c3191ea28b",
   "metadata": {},
   "outputs": [
    {
     "data": {
      "text/plain": [
       "9422"
      ]
     },
     "execution_count": 17,
     "metadata": {},
     "output_type": "execute_result"
    }
   ],
   "source": [
    "# Count number of features\n",
    "len(gs4_features) "
   ]
  },
  {
   "cell_type": "code",
   "execution_count": 18,
   "id": "7cc37b5b-ed88-4e7f-b19f-3bff0aa2a383",
   "metadata": {},
   "outputs": [
    {
     "data": {
      "text/plain": [
       "list"
      ]
     },
     "execution_count": 18,
     "metadata": {},
     "output_type": "execute_result"
    }
   ],
   "source": [
    "type(gs4_features)"
   ]
  },
  {
   "cell_type": "markdown",
   "id": "4d16e1da-d622-41b2-9f4d-77e5560c243c",
   "metadata": {},
   "source": [
    "I currently have 9,422 features after the column transformer."
   ]
  },
  {
   "cell_type": "markdown",
   "id": "bfa51e3d-8426-4c18-a69f-669190c8ce74",
   "metadata": {},
   "source": [
    "***"
   ]
  },
  {
   "cell_type": "markdown",
   "id": "d586ba75-1624-46f4-b545-7a99fad8a912",
   "metadata": {},
   "source": [
    "**Random Sample**\n",
    "\n",
    "I want to check a select number of random columns from the list of features I just extracted. This will be done to see if further cleaning will be needed."
   ]
  },
  {
   "cell_type": "code",
   "execution_count": 19,
   "id": "eb0a64d6-2d60-4847-80ee-daf3ba83d183",
   "metadata": {},
   "outputs": [
    {
     "data": {
      "text/plain": [
       "['summary_transform__jak',\n",
       " 'summary_transform__persona',\n",
       " 'summary_transform__smith',\n",
       " 'summary_transform__they’r',\n",
       " 'summary_transform__triad',\n",
       " 'summary_transform__employ',\n",
       " 'summary_transform__flower',\n",
       " 'summary_transform__eager',\n",
       " 'summary_transform__coin',\n",
       " 'summary_transform__super']"
      ]
     },
     "execution_count": 19,
     "metadata": {},
     "output_type": "execute_result"
    }
   ],
   "source": [
    "# Random Sample from feature list\n",
    "random_index = random.randint(0,len(gs4_features)-1)\n",
    "random_list_features = list(random.choices(gs4_features, k=10))\n",
    "random_list_features"
   ]
  },
  {
   "cell_type": "markdown",
   "id": "d12e3556-12c6-4b2e-8ac4-78f2591f0c4f",
   "metadata": {},
   "source": [
    "Looks good. One thing to note about the features is that since I did a `.named_steps` function before `get_feature_names()`, this would **include the prefix of the transformers** as well as the **prefix of the column that was transformed**. Although this helps me keep track of the extraction process, this makes the readability of feature names quite difficult. \n",
    "\n",
    "I will then preform some feature name cleaning. Essentially, I want to find the instance of a \"__\" and take the value on the right of it. This will leave me with the clean token names."
   ]
  },
  {
   "cell_type": "markdown",
   "id": "4bc5925f-6ad2-4729-a365-22669445f3eb",
   "metadata": {},
   "source": [
    "***"
   ]
  },
  {
   "cell_type": "markdown",
   "id": "a8f7cad0-c9f2-4557-bf35-bf2caceb3648",
   "metadata": {},
   "source": [
    "**Cleaning Feature Names**\n",
    "\n",
    "I am going to do a loop that splits the string from the '__', and appends the word into an empty 'token' list."
   ]
  },
  {
   "cell_type": "code",
   "execution_count": 20,
   "id": "51506f28-94f5-4238-bad8-157db8613331",
   "metadata": {},
   "outputs": [],
   "source": [
    "# Clean up feature names \n",
    "tokens = []\n",
    "for feature in gs4_features:\n",
    "    tokens.append(feature.split('__')[1])  # Loop that splits by the double dashed line adds it and adds it an empty token list"
   ]
  },
  {
   "cell_type": "markdown",
   "id": "cf955da3-7a8c-4b10-9903-34db0d4e6def",
   "metadata": {},
   "source": [
    "**Cleaned Random Sample**"
   ]
  },
  {
   "cell_type": "code",
   "execution_count": 21,
   "id": "bfb29669-766d-40d7-bce8-693f320a918f",
   "metadata": {},
   "outputs": [
    {
     "data": {
      "text/plain": [
       "['interfac',\n",
       " 'fourplay',\n",
       " 'sandman',\n",
       " 'cargo',\n",
       " 'rebel',\n",
       " 'sunlight',\n",
       " 'crossplay',\n",
       " 'public',\n",
       " 'workplac',\n",
       " 'anonym']"
      ]
     },
     "execution_count": 21,
     "metadata": {},
     "output_type": "execute_result"
    }
   ],
   "source": [
    "# Random Sample from feature list\n",
    "random_index2 = random.randint(0,len(tokens)-1)\n",
    "random_list_features2 = list(random.choices(tokens, k=10)) # 10 random tokens from the list\n",
    "random_list_features2"
   ]
  },
  {
   "cell_type": "markdown",
   "id": "a96dfa7f-6214-450f-9b27-28442f5803a6",
   "metadata": {},
   "source": [
    "Now the tokens are clean and without the prefix! This process greatly improved readability and analysis."
   ]
  },
  {
   "cell_type": "markdown",
   "id": "eb531102-323a-4466-95d9-9e576e38aa8d",
   "metadata": {},
   "source": [
    "***"
   ]
  },
  {
   "cell_type": "markdown",
   "id": "5acdcb5c-54ab-459b-8478-2a8c6fcc4bb0",
   "metadata": {},
   "source": [
    "### Extract Coefficients <a id=\"e3.2\"></a>"
   ]
  },
  {
   "cell_type": "markdown",
   "id": "43eb8d1d-943e-4dce-a99c-4de819ca9878",
   "metadata": {},
   "source": [
    "**Get Coefficients**\n",
    "\n",
    "To obtain the coefficients, I will be using `.named_steps['model']`. This allows me to access the best estimator's 'model' attribute, and since it is a Logsitic Regression, I can extract the coefficients."
   ]
  },
  {
   "cell_type": "code",
   "execution_count": 22,
   "id": "ee5f7da4-6525-4ae1-bc6b-a39acd2383c5",
   "metadata": {},
   "outputs": [
    {
     "data": {
      "text/plain": [
       "array([-0.80171013, -0.58114836,  1.70020414, ..., -0.44016533,\n",
       "       -0.71052608, -2.8069054 ])"
      ]
     },
     "execution_count": 22,
     "metadata": {},
     "output_type": "execute_result"
    }
   ],
   "source": [
    "# Extract coefficients from best estimator\n",
    "coefs4 = gs4.best_estimator_.named_steps['model'].coef_.flatten() \n",
    "coefs4 # view array"
   ]
  },
  {
   "cell_type": "markdown",
   "id": "a1d163f6-33e6-431f-97d6-5a650ab5fef5",
   "metadata": {},
   "source": [
    "**Pair Features and Coefficients**"
   ]
  },
  {
   "cell_type": "code",
   "execution_count": 23,
   "id": "d4f555df-1d3f-47e7-b372-c86608051781",
   "metadata": {},
   "outputs": [
    {
     "data": {
      "text/html": [
       "<div>\n",
       "<style scoped>\n",
       "    .dataframe tbody tr th:only-of-type {\n",
       "        vertical-align: middle;\n",
       "    }\n",
       "\n",
       "    .dataframe tbody tr th {\n",
       "        vertical-align: top;\n",
       "    }\n",
       "\n",
       "    .dataframe thead th {\n",
       "        text-align: right;\n",
       "    }\n",
       "</style>\n",
       "<table border=\"1\" class=\"dataframe\">\n",
       "  <thead>\n",
       "    <tr style=\"text-align: right;\">\n",
       "      <th></th>\n",
       "      <th>Features</th>\n",
       "      <th>Coef</th>\n",
       "    </tr>\n",
       "  </thead>\n",
       "  <tbody>\n",
       "    <tr>\n",
       "      <th>0</th>\n",
       "      <td>x0_ 3DS</td>\n",
       "      <td>-0.801710</td>\n",
       "    </tr>\n",
       "    <tr>\n",
       "      <th>1</th>\n",
       "      <td>x0_ DS</td>\n",
       "      <td>-0.581148</td>\n",
       "    </tr>\n",
       "    <tr>\n",
       "      <th>2</th>\n",
       "      <td>x0_ Dreamcast</td>\n",
       "      <td>1.700204</td>\n",
       "    </tr>\n",
       "    <tr>\n",
       "      <th>3</th>\n",
       "      <td>x0_ Game Boy Advance</td>\n",
       "      <td>-1.037426</td>\n",
       "    </tr>\n",
       "    <tr>\n",
       "      <th>4</th>\n",
       "      <td>x0_ GameCube</td>\n",
       "      <td>-0.131704</td>\n",
       "    </tr>\n",
       "  </tbody>\n",
       "</table>\n",
       "</div>"
      ],
      "text/plain": [
       "               Features      Coef\n",
       "0               x0_ 3DS -0.801710\n",
       "1                x0_ DS -0.581148\n",
       "2         x0_ Dreamcast  1.700204\n",
       "3  x0_ Game Boy Advance -1.037426\n",
       "4          x0_ GameCube -0.131704"
      ]
     },
     "execution_count": 23,
     "metadata": {},
     "output_type": "execute_result"
    }
   ],
   "source": [
    "features_and_coefs4 = pd.DataFrame({'Features': tokens, 'Coef': coefs4}) #setting up the columns and what should contain it\n",
    "features_and_coefs4.head()"
   ]
  },
  {
   "cell_type": "code",
   "execution_count": 24,
   "id": "f17b6512-3b30-4cb9-9ae3-506a740297fb",
   "metadata": {},
   "outputs": [],
   "source": [
    "# Obtain top n words\n",
    "top_words = features_and_coefs4.sort_values('Coef', ascending=False).head(30)\n",
    "bot_words = features_and_coefs4.sort_values('Coef', ascending=True).head(30)"
   ]
  },
  {
   "cell_type": "code",
   "execution_count": 25,
   "id": "5e82c3de-e813-4843-ba05-3875dfd4a487",
   "metadata": {},
   "outputs": [
    {
     "data": {
      "image/png": "[encoded data removed]",
      "text/plain": [
       "<Figure size 1080x720 with 2 Axes>"
      ]
     },
     "metadata": {
      "needs_background": "light"
     },
     "output_type": "display_data"
    }
   ],
   "source": [
    "# plot top and bottom n words\n",
    " \n",
    "plt.subplots(1,2, figsize=(15,10)) #subplot\n",
    "plt.suptitle('Top Positive and Negative Tokens by Coefficient Value (CountVectorizer)', fontsize=25)\n",
    "\n",
    "# Subplot 1\n",
    "plt.subplot(1,2,1) # subplot position\n",
    "sns.barplot(x=bot_words['Coef'], \n",
    "            y=bot_words['Features'], \n",
    "            color='tab:red' )\n",
    "plt.xlim([-10,0]) #sets limit on coefficients\n",
    "plt.xlabel('Negative Coefficients', fontsize=20)\n",
    "plt.ylabel('Token', fontsize=15)\n",
    "\n",
    "# Subplot 2\n",
    "plt.subplot(1,2,2) # subplot position\n",
    "sns.barplot(x=top_words['Coef'], \n",
    "            y=top_words['Features'],\n",
    "            color='tab:blue')\n",
    "plt.xlim([0,10]) # sets limit on coefficients\n",
    "plt.xlabel('Positive Coefficients', fontsize=20)\n",
    "plt.ylabel('Token', fontsize=15)\n",
    "\n",
    "\n",
    "plt.tight_layout() #fixes the format\n",
    "plt.savefig('data/topcv.jpg')\n",
    "\n",
    "plt.show()\n"
   ]
  },
  {
   "cell_type": "markdown",
   "id": "2a32f901-37dd-492a-bcd5-9d3448137f51",
   "metadata": {},
   "source": [
    "### Count Vectorizer Results"
   ]
  },
  {
   "cell_type": "markdown",
   "id": "86ae59ac-8852-4b32-937d-e9693627bdd2",
   "metadata": {},
   "source": [
    "There are some patterns I noticed based on the *Top Positive and Negative Tokens by Coefficient Value (CountVectorizer)* plot. These are some of the structural characteristics of the games with important contributing tokens:\n",
    "\n",
    "**Platform**:\n",
    "- Negative: *atari*\n",
    "\n",
    "**Character Names**: \n",
    "- Positive: *jona*, *stobbart*, *etrian*, *ryan* \n",
    "- Negative: *christoph*\n",
    "    \n",
    "**Weaponry**: \n",
    "- Positive: *doublebarrel*, *razor*\n",
    "- Negative:  *musket* \n",
    "\n",
    "**Landscape and Environment**:\n",
    "- Positive: *rainforest*, *viral*, *locust*, *1920*, *1987*, *2k2*\n",
    "- Negative: *stale*, *drought*\n",
    "\n",
    "**Graphics and Play Style**:\n",
    "- Positive: *synch*, *dimension*, *adrenalinestyle*, *usercontrol*, *citybuild*, *highrisk*\n",
    "- Negative: *xtreme*, *bobbl*\n",
    "\n",
    "**Theme**:\n",
    "- Positive: *ballet*, *stuntmen*, *dialogue*\n",
    "- Negative: *ghosttbust*, *treason*\n",
    "\n",
    "\n",
    "With these themes, I can clearly see that there are tokens that describe a certain genre of games. Some of these themes include games that are set in certains periods of time, during a disaster of some kind, or even at a specific biome. \n",
    "\n",
    "**Source Material**:[Structural Characteristics of Video Games](https://pubmed.ncbi.nlm.nih.gov/15006163/)"
   ]
  },
  {
   "cell_type": "markdown",
   "id": "aecc18b8-b219-486e-b541-2ee6e81e1a9f",
   "metadata": {},
   "source": [
    "***"
   ]
  },
  {
   "cell_type": "markdown",
   "id": "5b34fdbd-5d55-4db0-bede-11e7da072ea8",
   "metadata": {
    "tags": []
   },
   "source": [
    "# Logistic Regression TF-IDF <a id=\"e4\"></a>"
   ]
  },
  {
   "cell_type": "markdown",
   "id": "597fb40b-5d2b-4b3b-85a3-10fe897b4081",
   "metadata": {},
   "source": [
    "I want to take advantage of TF-IDF to take words used more frequently and places a larger significance on those words. On the contrary, TF-IDF places less significance on words used more frequently across all documents. I am fitting this on a GridSearch to ensure 5-fold cross validation happens and I can easily see the results and standard deviation of the cross validation score."
   ]
  },
  {
   "cell_type": "markdown",
   "id": "a8dfe16b-6ea3-40ac-8073-2693bac7c733",
   "metadata": {},
   "source": [
    "**GridSearch 5**:"
   ]
  },
  {
   "cell_type": "code",
   "execution_count": 26,
   "id": "ff6fd571-04c6-440c-a1b3-e14e86db3604",
   "metadata": {
    "tags": []
   },
   "outputs": [
    {
     "name": "stdout",
     "output_type": "stream",
     "text": [
      "Loading pre-trained model...\n",
      "\n",
      "The best model used the following settings: \n",
      " Pipeline(steps=[('transformer',\n",
      "                 ColumnTransformer(transformers=[('platform_transform',\n",
      "                                                  OneHotEncoder(),\n",
      "                                                  ['platform']),\n",
      "                                                 ('summary_transform',\n",
      "                                                  TfidfVectorizer(min_df=5,\n",
      "                                                                  tokenizer=<function my_tokenizer at 0x7fbb68b60550>),\n",
      "                                                  'summary')])),\n",
      "                ('model',\n",
      "                 LogisticRegression(C=10, max_iter=10000, random_state=1))])\n",
      "Best Model Train Score (%): 89.4\n",
      "Best Model Test Score (%): 69.29\n"
     ]
    }
   ],
   "source": [
    "if models_loaded_flag: \n",
    "    print('Loading pre-trained model...')\n",
    "    gs5 = model_dict['gs5'] # reference the pkl\n",
    "    \n",
    "    # Print the best estimator\n",
    "    print('\\nThe best model used the following settings:', '\\n',gs5.best_estimator_)\n",
    "    \n",
    "    # Print score \n",
    "    print(f\"Best Model Train Score (%): {round(gs5.score(X_train_2, y_train_2)*100.00, 2)}\")\n",
    "    print(f\"Best Model Test Score (%): {round(gs5.score(X_test_2, y_test_2)*100.00,2)}\")\n",
    "    \n",
    "#------------------------------------------------------------------------------------------------------------------#\n",
    "    \n",
    "else:\n",
    "    # State Models will re-train\n",
    "    print(\"Training Models...\")\n",
    "    \n",
    "    # GRIDSEARCH 5:\n",
    "\n",
    "    estimators5 = [('transformer', ColumnTransformer([])),\n",
    "                ('model', LogisticRegression())]\n",
    "\n",
    "\n",
    "    pipe5 = Pipeline(estimators5)\n",
    "\n",
    "    # Instantiate Pipeline with the specified steps\n",
    "    param_grid5= [\n",
    "\n",
    "    # Logistic Classifier with new Features\n",
    "                {'transformer': [ColumnTransformer([('platform_transform', OneHotEncoder(), ['platform']),\n",
    "                    ('summary_transform', TfidfVectorizer(min_df=5, tokenizer=my_tokenizer), 'summary')])],\n",
    "                'model': [LogisticRegression()],\n",
    "                'model__C': [10], # More C values\n",
    "                'model__penalty': ['l2'],\n",
    "                'model__max_iter': [10000],\n",
    "                'model__random_state': [1]}\n",
    "                     ]\n",
    "\n",
    "    # Instate cross-validated grid search object\n",
    "    grid5 = GridSearchCV(\n",
    "        estimator = pipe5,\n",
    "        param_grid = param_grid5,\n",
    "        cv = 5, # cross validation folds\n",
    "        verbose = 0,\n",
    "        n_jobs = -1\n",
    "    )\n",
    "\n",
    "    # fit the grid \n",
    "    fitted_grid5 = grid5.fit(X_train_2, y_train_2)\n",
    "    \n",
    "#------------------------------------------------------------------------------------------------------------------# \n",
    "\n",
    "# # Saving GridSearch 5 as a pickle file\n",
    "   \n",
    "    joblib.dump(fitted_grid5, 'fitted_gridsearchcv5.pkl')\n",
    "    # Setting variable\n",
    "    gs5 = joblib.load('fitted_gridsearchcv5.pkl' ) # NOTE: Unusual, but doing the loading first before calling best estimator/scores since run times are quicker for me\n",
    "    \n",
    "    \n",
    "    # Best Estimator of GridSearch\n",
    "    print(gs5.best_estimator_)\n",
    "    \n",
    "    # Print Score\n",
    "    print(f\"Best Model Train Score (%): {round(gs5.score(X_train_2, y_train_2)*100.00, 2)}\")\n",
    "    print(f\"Best Model Test Score (%): {round(gs5.score(X_test_2, y_test_2)*100.00,2)}\")"
   ]
  },
  {
   "cell_type": "code",
   "execution_count": 27,
   "id": "5959676c-e51e-4f7c-88d6-4ddfd0d51634",
   "metadata": {},
   "outputs": [
    {
     "data": {
      "text/html": [
       "<div>\n",
       "<style scoped>\n",
       "    .dataframe tbody tr th:only-of-type {\n",
       "        vertical-align: middle;\n",
       "    }\n",
       "\n",
       "    .dataframe tbody tr th {\n",
       "        vertical-align: top;\n",
       "    }\n",
       "\n",
       "    .dataframe thead th {\n",
       "        text-align: right;\n",
       "    }\n",
       "</style>\n",
       "<table border=\"1\" class=\"dataframe\">\n",
       "  <thead>\n",
       "    <tr style=\"text-align: right;\">\n",
       "      <th></th>\n",
       "      <th>mean_fit_time</th>\n",
       "      <th>std_fit_time</th>\n",
       "      <th>mean_score_time</th>\n",
       "      <th>std_score_time</th>\n",
       "      <th>param_model</th>\n",
       "      <th>param_model__C</th>\n",
       "      <th>param_model__max_iter</th>\n",
       "      <th>param_model__penalty</th>\n",
       "      <th>param_model__random_state</th>\n",
       "      <th>param_transformer</th>\n",
       "      <th>params</th>\n",
       "      <th>split0_test_score</th>\n",
       "      <th>split1_test_score</th>\n",
       "      <th>split2_test_score</th>\n",
       "      <th>split3_test_score</th>\n",
       "      <th>split4_test_score</th>\n",
       "      <th>mean_test_score</th>\n",
       "      <th>std_test_score</th>\n",
       "      <th>rank_test_score</th>\n",
       "    </tr>\n",
       "  </thead>\n",
       "  <tbody>\n",
       "    <tr>\n",
       "      <th>0</th>\n",
       "      <td>24.720954</td>\n",
       "      <td>1.345795</td>\n",
       "      <td>4.969413</td>\n",
       "      <td>0.650124</td>\n",
       "      <td>LogisticRegression(C=10, max_iter=10000, rando...</td>\n",
       "      <td>10</td>\n",
       "      <td>10000</td>\n",
       "      <td>l2</td>\n",
       "      <td>1</td>\n",
       "      <td>ColumnTransformer(transformers=[('platform_tra...</td>\n",
       "      <td>{'model': LogisticRegression(C=10, max_iter=10...</td>\n",
       "      <td>0.668073</td>\n",
       "      <td>0.686709</td>\n",
       "      <td>0.668073</td>\n",
       "      <td>0.656821</td>\n",
       "      <td>0.688819</td>\n",
       "      <td>0.673699</td>\n",
       "      <td>0.012215</td>\n",
       "      <td>1</td>\n",
       "    </tr>\n",
       "  </tbody>\n",
       "</table>\n",
       "</div>"
      ],
      "text/plain": [
       "   mean_fit_time  std_fit_time  mean_score_time  std_score_time  \\\n",
       "0      24.720954      1.345795         4.969413        0.650124   \n",
       "\n",
       "                                         param_model param_model__C  \\\n",
       "0  LogisticRegression(C=10, max_iter=10000, rando...             10   \n",
       "\n",
       "  param_model__max_iter param_model__penalty param_model__random_state  \\\n",
       "0                 10000                   l2                         1   \n",
       "\n",
       "                                   param_transformer  \\\n",
       "0  ColumnTransformer(transformers=[('platform_tra...   \n",
       "\n",
       "                                              params  split0_test_score  \\\n",
       "0  {'model': LogisticRegression(C=10, max_iter=10...           0.668073   \n",
       "\n",
       "   split1_test_score  split2_test_score  split3_test_score  split4_test_score  \\\n",
       "0           0.686709           0.668073           0.656821           0.688819   \n",
       "\n",
       "   mean_test_score  std_test_score  rank_test_score  \n",
       "0         0.673699        0.012215                1  "
      ]
     },
     "execution_count": 27,
     "metadata": {},
     "output_type": "execute_result"
    }
   ],
   "source": [
    "gs5_results = pd.DataFrame(gs5.cv_results_).sort_values('mean_test_score', ascending=False)\n",
    "gs5_results"
   ]
  },
  {
   "cell_type": "markdown",
   "id": "59f343b6-c9cc-4216-bfe5-01ad85d7527c",
   "metadata": {},
   "source": [
    "***"
   ]
  },
  {
   "cell_type": "markdown",
   "id": "f500b178-3cc0-4852-87ac-3dd834654988",
   "metadata": {},
   "source": [
    "#### Extract Features TF-IDF <a id=\"e4.1\"></a>"
   ]
  },
  {
   "cell_type": "code",
   "execution_count": 28,
   "id": "1939e5f7-07d5-4f57-9e09-32e45c8bda5f",
   "metadata": {},
   "outputs": [],
   "source": [
    "# Extract Feature Names\n",
    "gs5_features = gs5.best_estimator_.named_steps['transformer'].get_feature_names()"
   ]
  },
  {
   "cell_type": "code",
   "execution_count": 29,
   "id": "50cc0369-2a12-477d-98fb-124186df6409",
   "metadata": {},
   "outputs": [
    {
     "data": {
      "text/plain": [
       "9422"
      ]
     },
     "execution_count": 29,
     "metadata": {},
     "output_type": "execute_result"
    }
   ],
   "source": [
    "# Count number of features\n",
    "len(gs5_features)"
   ]
  },
  {
   "cell_type": "markdown",
   "id": "a8c347d4-dde6-4b9b-bd63-76cae87d6747",
   "metadata": {},
   "source": [
    "I currently have 9,422 features. "
   ]
  },
  {
   "cell_type": "code",
   "execution_count": 30,
   "id": "9e61bb0f-687c-4e0b-afc9-3a78a055c1ed",
   "metadata": {},
   "outputs": [
    {
     "data": {
      "text/plain": [
       "['summary_transform__bethesda',\n",
       " 'summary_transform__swedish',\n",
       " 'summary_transform__disabl',\n",
       " 'summary_transform__reject',\n",
       " 'summary_transform__swear',\n",
       " 'summary_transform__inmat',\n",
       " 'summary_transform__unrestrain',\n",
       " 'summary_transform__resourc',\n",
       " 'summary_transform__kidnapp',\n",
       " 'summary_transform__feder']"
      ]
     },
     "execution_count": 30,
     "metadata": {},
     "output_type": "execute_result"
    }
   ],
   "source": [
    "# Random Sample from feature list\n",
    "random_index_t = random.randint(0,len(gs5_features)-1)\n",
    "random_list_features_t = list(random.choices(gs5_features, k=10))\n",
    "random_list_features_t\n",
    "\n",
    "#Source: https://www.w3schools.com/python/ref_random_choices.asp"
   ]
  },
  {
   "cell_type": "markdown",
   "id": "32256a60-2db9-443c-9d31-607ab5ee4963",
   "metadata": {},
   "source": [
    "One thing to note about the features is that since I did a `.named_steps` function before `get_feature_names()`, this would include the prefix of the transformers as well as the column that was transformed. This makes the feature names quite messy. I will then preform some feature name cleaning. Essentially, I want to find the instance of a \"__\" and take the value on the right of it. This will leave me with the clean token names"
   ]
  },
  {
   "cell_type": "code",
   "execution_count": 31,
   "id": "1b9460bf-0da8-4039-912a-75d621594702",
   "metadata": {},
   "outputs": [],
   "source": [
    "# Clean up feature names \n",
    "tokenst = []\n",
    "for feature in gs5_features:\n",
    "    tokenst.append(feature.split('__')[1]) "
   ]
  },
  {
   "cell_type": "code",
   "execution_count": 32,
   "id": "61db5d1e-8493-4d29-87e8-9ee9483eacdd",
   "metadata": {},
   "outputs": [
    {
     "data": {
      "text/plain": [
       "['prowess',\n",
       " 'raincoat',\n",
       " 'corneliu',\n",
       " 'signatur',\n",
       " 'larg',\n",
       " 'rig',\n",
       " 'minist',\n",
       " 'hord',\n",
       " 'cosmet',\n",
       " 'systemat']"
      ]
     },
     "execution_count": 32,
     "metadata": {},
     "output_type": "execute_result"
    }
   ],
   "source": [
    "# Random Sample from feature list\n",
    "random_indext2 = random.randint(0,len(tokenst)-1)\n",
    "random_list_featurest2 = list(random.choices(tokenst, k=10))\n",
    "random_list_featurest2"
   ]
  },
  {
   "cell_type": "markdown",
   "id": "461df1d9-0429-4df6-b5ea-eca5be69ba49",
   "metadata": {},
   "source": [
    "Now the tokens are clean and without the prefix! "
   ]
  },
  {
   "cell_type": "markdown",
   "id": "4ff99af7-feea-41f9-a293-fa7813a28d64",
   "metadata": {},
   "source": [
    "#### Extract Coefficients IF-IDF <a id=\"e4.2\"></a>"
   ]
  },
  {
   "cell_type": "code",
   "execution_count": 33,
   "id": "884a6130-83ac-4d26-9edf-e2db1f02abd6",
   "metadata": {},
   "outputs": [],
   "source": [
    "coefs5 = gs5.best_estimator_.named_steps[\"model\"].coef_.flatten()"
   ]
  },
  {
   "cell_type": "code",
   "execution_count": 34,
   "id": "1c3c4e5d-4785-489c-ae46-13e7cfe21b7a",
   "metadata": {},
   "outputs": [
    {
     "data": {
      "text/plain": [
       "array([-0.30711534, -0.53723979,  1.06700068, ..., -1.51167636,\n",
       "       -0.26569918, -2.52748182])"
      ]
     },
     "execution_count": 34,
     "metadata": {},
     "output_type": "execute_result"
    }
   ],
   "source": [
    "coefs5"
   ]
  },
  {
   "cell_type": "code",
   "execution_count": 35,
   "id": "3349170d-69f3-4e97-8b6e-c4b0f57cd5f0",
   "metadata": {},
   "outputs": [],
   "source": [
    "features_and_coefs5 = pd.DataFrame({'Features': tokenst, 'Coef': coefs5})"
   ]
  },
  {
   "cell_type": "code",
   "execution_count": 36,
   "id": "9b3b9f88-26de-4a1c-98a3-9242ba50754a",
   "metadata": {},
   "outputs": [
    {
     "data": {
      "text/html": [
       "<div>\n",
       "<style scoped>\n",
       "    .dataframe tbody tr th:only-of-type {\n",
       "        vertical-align: middle;\n",
       "    }\n",
       "\n",
       "    .dataframe tbody tr th {\n",
       "        vertical-align: top;\n",
       "    }\n",
       "\n",
       "    .dataframe thead th {\n",
       "        text-align: right;\n",
       "    }\n",
       "</style>\n",
       "<table border=\"1\" class=\"dataframe\">\n",
       "  <thead>\n",
       "    <tr style=\"text-align: right;\">\n",
       "      <th></th>\n",
       "      <th>Features</th>\n",
       "      <th>Coef</th>\n",
       "    </tr>\n",
       "  </thead>\n",
       "  <tbody>\n",
       "    <tr>\n",
       "      <th>0</th>\n",
       "      <td>x0_ 3DS</td>\n",
       "      <td>-0.307115</td>\n",
       "    </tr>\n",
       "    <tr>\n",
       "      <th>1</th>\n",
       "      <td>x0_ DS</td>\n",
       "      <td>-0.537240</td>\n",
       "    </tr>\n",
       "    <tr>\n",
       "      <th>2</th>\n",
       "      <td>x0_ Dreamcast</td>\n",
       "      <td>1.067001</td>\n",
       "    </tr>\n",
       "    <tr>\n",
       "      <th>3</th>\n",
       "      <td>x0_ Game Boy Advance</td>\n",
       "      <td>-0.315202</td>\n",
       "    </tr>\n",
       "    <tr>\n",
       "      <th>4</th>\n",
       "      <td>x0_ GameCube</td>\n",
       "      <td>-0.230336</td>\n",
       "    </tr>\n",
       "  </tbody>\n",
       "</table>\n",
       "</div>"
      ],
      "text/plain": [
       "               Features      Coef\n",
       "0               x0_ 3DS -0.307115\n",
       "1                x0_ DS -0.537240\n",
       "2         x0_ Dreamcast  1.067001\n",
       "3  x0_ Game Boy Advance -0.315202\n",
       "4          x0_ GameCube -0.230336"
      ]
     },
     "execution_count": 36,
     "metadata": {},
     "output_type": "execute_result"
    }
   ],
   "source": [
    "features_and_coefs5.head()"
   ]
  },
  {
   "cell_type": "code",
   "execution_count": 37,
   "id": "8e859d49-8a1b-46b2-812a-353effecd127",
   "metadata": {},
   "outputs": [],
   "source": [
    "# Obtain top n words\n",
    "top_wordst = features_and_coefs5.sort_values('Coef', ascending=False).head(30)\n",
    "bot_wordst = features_and_coefs5.sort_values('Coef', ascending=True).head(30)"
   ]
  },
  {
   "cell_type": "code",
   "execution_count": 38,
   "id": "e1aed66c-b583-49af-9351-0a3dfc6c94aa",
   "metadata": {},
   "outputs": [
    {
     "data": {
      "image/png": "[encoded data removed]",
      "text/plain": [
       "<Figure size 1080x720 with 2 Axes>"
      ]
     },
     "metadata": {
      "needs_background": "light"
     },
     "output_type": "display_data"
    }
   ],
   "source": [
    "# plot top and bottom n words\n",
    "plt.subplots(1,2, figsize=(15,10)) #subplot\n",
    "plt.suptitle('Top Positive and Negative Words by Coefficient Value (TF-IDF)', fontsize=25)\n",
    "\n",
    "# Subplot 1\n",
    "plt.subplot(1,2,1) # subplot position\n",
    "sns.barplot(x=bot_wordst['Coef'], \n",
    "            y=bot_wordst['Features'], \n",
    "            color='tab:red' )\n",
    "plt.xlim([-10,0]) #sets limit on coefficients\n",
    "plt.xlabel('Negative Coefficients', fontsize=20)\n",
    "plt.ylabel('Token', fontsize=15)\n",
    "\n",
    "# Subplot 2\n",
    "plt.subplot(1,2,2) # subplot position\n",
    "sns.barplot(x=top_wordst['Coef'], \n",
    "            y=top_wordst['Features'],\n",
    "            color='tab:blue')\n",
    "plt.xlim([0,10]) # sets limit on coefficients\n",
    "plt.xlabel('Positive Coefficients', fontsize=20)\n",
    "plt.ylabel('Token', fontsize=15)\n",
    "\n",
    "\n",
    "plt.tight_layout()\n",
    "plt.savefig('data/toptfidf.jpg')\n",
    "plt.show()"
   ]
  },
  {
   "cell_type": "markdown",
   "id": "25004f27-53c5-4039-8379-21719d83b81d",
   "metadata": {},
   "source": [
    "I will segregate the tokens into discernable patterns I found:\n",
    "    \n",
    "**Platform**:\n",
    "- Positive: *ps2*\n",
    "- Negative: *atari*\n",
    "\n",
    "**Character Names**: \n",
    "- Positive: *jona*, *kong*, *luigi*, *etrian*, *jill*, *goku*\n",
    "\n",
    "**Landscape and Environment**:\n",
    "- Positive: *orbit*, *midnight*\n",
    "- Negative: *london*, *venice*, *07*, *gameindustry*\n",
    "\n",
    "**Graphics and Play Style**:\n",
    "- Positive: *actionplatform*, *followup*, *expand*\n",
    "- Negative: *xtreme*, *versu*, *lightning fast*\n",
    "\n",
    "**Theme**:\n",
    "- Positive: *cyber*, *injustice*, *crysi*, *ture*, *synch*, *madden*, *liberti*, \n",
    "- Negative: *uefa*, *wrc*, *younger*, *strive*, *acrobat*, *skateboard*, *trophi*"
   ]
  },
  {
   "cell_type": "markdown",
   "id": "bd9136e3-80a3-4227-8b43-1d483758fe07",
   "metadata": {},
   "source": [
    "***"
   ]
  },
  {
   "cell_type": "markdown",
   "id": "35a91c3e-36be-45af-975c-759034b799be",
   "metadata": {},
   "source": [
    "# Accumulate Findings"
   ]
  },
  {
   "cell_type": "markdown",
   "id": "4ab97709-19e5-4609-9063-bfe37bbec4dc",
   "metadata": {},
   "source": [
    "With the themes organized, I can now combine the two findings into a compiled list. I will be creating a dataframe for easy readability."
   ]
  },
  {
   "cell_type": "code",
   "execution_count": 39,
   "id": "a7116580-1d9f-455b-bf86-adb3c8f8792b",
   "metadata": {},
   "outputs": [],
   "source": [
    "# Create list \n",
    "patterns_results = [['Platform', 'ps2', 'atari'],\n",
    "                    ['Character Names', 'jona, kong, luigi, etrian, jill, stobbart, ryan, goku', 'christoph'],\n",
    "                    ['Weaponry', 'doublebarrel, razor','musket'],\n",
    "                    ['Landscape and Environment', 'orbit, midnight, rainforest, viral, locust, 1920, 1987, 2k2', 'london, venice, 07, gameindustry, stale, drought'],\n",
    "                    ['Graphics and Play Style','actionplatform, followup, expand, synch, dimension, adrenalinestyle, usercontrol, citybuild, highrisk','xtreme, versu, lightningfast, bobbl'],\n",
    "                    ['Theme', 'cyber, injustice, crysi, ture, synch, madden, liberti, ballet, stuntment, dialogue','uefa, wrc, younger, strive, acrobat, skateboard, trophi, ghostbust']]\n",
    "\n",
    "# Convert into dataframe and add column names\n",
    "patterns_results_df = pd.DataFrame(patterns_results, columns = ['Structural Characteristic', 'Positive', 'Negative'])\n",
    "                    "
   ]
  },
  {
   "cell_type": "code",
   "execution_count": 40,
   "id": "7d6a748a-53fa-43cb-92fb-7568ba6d7e69",
   "metadata": {},
   "outputs": [],
   "source": [
    "# View full column width\n",
    "pd.set_option('display.max_colwidth', None)"
   ]
  },
  {
   "cell_type": "markdown",
   "id": "f364ffa0-0c64-4db9-b84b-56238ed27b2a",
   "metadata": {},
   "source": [
    "***"
   ]
  },
  {
   "cell_type": "markdown",
   "id": "09b08cfe-167b-4962-8408-5e6f71e28e34",
   "metadata": {},
   "source": [
    "# Findings and Actionable Insights <a id=\"e5\"></a>"
   ]
  },
  {
   "cell_type": "code",
   "execution_count": 41,
   "id": "54358f93-7b01-4e60-b6a9-4abd88f83b62",
   "metadata": {},
   "outputs": [
    {
     "name": "stdout",
     "output_type": "stream",
     "text": [
      "Structural Characteristics and Tokens\n"
     ]
    },
    {
     "data": {
      "text/html": [
       "<div>\n",
       "<style scoped>\n",
       "    .dataframe tbody tr th:only-of-type {\n",
       "        vertical-align: middle;\n",
       "    }\n",
       "\n",
       "    .dataframe tbody tr th {\n",
       "        vertical-align: top;\n",
       "    }\n",
       "\n",
       "    .dataframe thead th {\n",
       "        text-align: right;\n",
       "    }\n",
       "</style>\n",
       "<table border=\"1\" class=\"dataframe\">\n",
       "  <thead>\n",
       "    <tr style=\"text-align: right;\">\n",
       "      <th></th>\n",
       "      <th>Structural Characteristic</th>\n",
       "      <th>Positive</th>\n",
       "      <th>Negative</th>\n",
       "    </tr>\n",
       "  </thead>\n",
       "  <tbody>\n",
       "    <tr>\n",
       "      <th>0</th>\n",
       "      <td>Platform</td>\n",
       "      <td>ps2</td>\n",
       "      <td>atari</td>\n",
       "    </tr>\n",
       "    <tr>\n",
       "      <th>1</th>\n",
       "      <td>Character Names</td>\n",
       "      <td>jona, kong, luigi, etrian, jill, stobbart, ryan, goku</td>\n",
       "      <td>christoph</td>\n",
       "    </tr>\n",
       "    <tr>\n",
       "      <th>2</th>\n",
       "      <td>Weaponry</td>\n",
       "      <td>doublebarrel, razor</td>\n",
       "      <td>musket</td>\n",
       "    </tr>\n",
       "    <tr>\n",
       "      <th>3</th>\n",
       "      <td>Landscape and Environment</td>\n",
       "      <td>orbit, midnight, rainforest, viral, locust, 1920, 1987, 2k2</td>\n",
       "      <td>london, venice, 07, gameindustry, stale, drought</td>\n",
       "    </tr>\n",
       "    <tr>\n",
       "      <th>4</th>\n",
       "      <td>Graphics and Play Style</td>\n",
       "      <td>actionplatform, followup, expand, synch, dimension, adrenalinestyle, usercontrol, citybuild, highrisk</td>\n",
       "      <td>xtreme, versu, lightningfast, bobbl</td>\n",
       "    </tr>\n",
       "    <tr>\n",
       "      <th>5</th>\n",
       "      <td>Theme</td>\n",
       "      <td>cyber, injustice, crysi, ture, synch, madden, liberti, ballet, stuntment, dialogue</td>\n",
       "      <td>uefa, wrc, younger, strive, acrobat, skateboard, trophi, ghostbust</td>\n",
       "    </tr>\n",
       "  </tbody>\n",
       "</table>\n",
       "</div>"
      ],
      "text/plain": [
       "   Structural Characteristic  \\\n",
       "0                   Platform   \n",
       "1            Character Names   \n",
       "2                   Weaponry   \n",
       "3  Landscape and Environment   \n",
       "4    Graphics and Play Style   \n",
       "5                      Theme   \n",
       "\n",
       "                                                                                                Positive  \\\n",
       "0                                                                                                    ps2   \n",
       "1                                                  jona, kong, luigi, etrian, jill, stobbart, ryan, goku   \n",
       "2                                                                                    doublebarrel, razor   \n",
       "3                                            orbit, midnight, rainforest, viral, locust, 1920, 1987, 2k2   \n",
       "4  actionplatform, followup, expand, synch, dimension, adrenalinestyle, usercontrol, citybuild, highrisk   \n",
       "5                     cyber, injustice, crysi, ture, synch, madden, liberti, ballet, stuntment, dialogue   \n",
       "\n",
       "                                                             Negative  \n",
       "0                                                               atari  \n",
       "1                                                           christoph  \n",
       "2                                                              musket  \n",
       "3                    london, venice, 07, gameindustry, stale, drought  \n",
       "4                                 xtreme, versu, lightningfast, bobbl  \n",
       "5  uefa, wrc, younger, strive, acrobat, skateboard, trophi, ghostbust  "
      ]
     },
     "execution_count": 41,
     "metadata": {},
     "output_type": "execute_result"
    }
   ],
   "source": [
    "print(\"Structural Characteristics and Tokens\")\n",
    "\n",
    "patterns_results_df"
   ]
  },
  {
   "cell_type": "markdown",
   "id": "9b75555a-ba80-43aa-b8fc-ccd33f2af2b8",
   "metadata": {},
   "source": []
  },
  {
   "cell_type": "markdown",
   "id": "7ef4514f-2578-4253-b792-f7033d78d984",
   "metadata": {},
   "source": [
    "Platforms: PS2, Atari ==> older platforms have a impact on \n",
    "Sports/genres: madden, skateboard\n",
    "characters:\n",
    "graphics: actionplatform\n",
    "sequel/franchise: - \"sequel\""
   ]
  },
  {
   "cell_type": "markdown",
   "id": "6e7301b8-d3be-455f-90c1-aafc196a3578",
   "metadata": {},
   "source": [
    "***"
   ]
  },
  {
   "cell_type": "markdown",
   "id": "e699d209-bf90-4683-b18e-245ac0b8887f",
   "metadata": {},
   "source": [
    "# Actionable Insights <a id=\"e5.1\"></a>"
   ]
  },
  {
   "cell_type": "markdown",
   "id": "b2fb0250-5c8a-466a-bff5-4f839f82159a",
   "metadata": {},
   "source": [
    "\n",
    "**Platforms may determine score**\n",
    "- In terms of platforms, a leading positive indicator for a high meta score are games released in the PS2, while games released in Atari are strong negative indicators for a low meta score. However, since these platforms no longer produce new games, it can possibly be associated with simply just historical reviews.\n",
    "\n",
    "**Don't forget the weapons!**\n",
    "- It is possible that the weaponry can be related to the time-period or theme of the game. For instance, pirate games tend to have 'muskets', which is their common weapon. Similarly, 'doublebarrel' and 'razors' may allude to a late 1800's time period where these being used as weapons were commonplace.\n",
    "\n",
    "**2D Graphics and Art Style**\n",
    "- One improtant finding is that the dimension of the game matters and is indicative of a good meta score. When it comes to design and art, an \"action platform and line style instead of thirdperson\" type of game are prefered.  Action Platform and Line Style games are basically 2-dimensional style of games where the users move up and down across different 'platforms'. \n",
    "- This relates well to higher scores having good 'user control'. A main quality of action platforms is plenty of interaction with the background objects. \n",
    "\n",
    "\n",
    "**The type of sport in sport-genre games is significant**\n",
    "- When creating a sport games (which are an extremely popular genre), some sports tend to score better than others. For example, sports like soccer, race-car racing, gymnastics, and skateboarding seem to be top indicators of a low meta score. On the other hand, sports based on American football (or the NFL), stuntmen, bowling, and ballet get higher scores.\n",
    "\n",
    "**Some landscapes and environments do better**\n",
    "- Time set in the 1900s tend to have high reviews and games associated with 07 (possibly 2007), tend to receive lower scores.\n",
    "- Being set in European countries like London and Venice is associated with a low score.\n",
    "- Environments set in darker areas like 'orbit, midnight, and rainforests' are associated with high scores.\n",
    "- In terms of settings, some disaster such as a 'virus spreading' or 'locusts' were some of the stronger indicators for a positive game. Interestingly enough, 'drought' (which pairs with locusts), is an indicator for a low score.\n",
    "\n",
    "\n",
    "**People like franchises, nostalgia, and continuity**\n",
    "- The \"high\" meta score contributors are games that are franchises. These are games that have multiple parts of a series or title——often coming in the form of sequels/prequels. This was observed by looking at the top positive coefficients, where character names such as \"Goku\", \"Luigi\", and \"Etrian\" appear. These names are from some popular franchises: \"Dragon Ball-Z\", \"Super Mario\", and \"Etrian Odyssey\" respectively. Further investigating of the top coefficients also showed that \"sequel\" was a leading indicator to a high meta score. This seems to allude to the presence of a nostalgic and/or continuity aspect to the high rated game qualities.\n",
    "\n",
    "**Put effort into the script or voice acting**\n",
    "- Dialogue is one of the higher indicators of a high meta score."
   ]
  },
  {
   "cell_type": "markdown",
   "id": "aaef78ba-21f5-4afe-80bc-5dd0e8d94848",
   "metadata": {},
   "source": [
    "***"
   ]
  },
  {
   "cell_type": "markdown",
   "id": "01edac52-9f42-4256-99ad-910bf1a66f6a",
   "metadata": {},
   "source": [
    "# The Next Steps <a id=\"e5.2\"></a>"
   ]
  },
  {
   "cell_type": "markdown",
   "id": "cd77e846-f7e5-4a51-8bd5-b31cfe5ee112",
   "metadata": {},
   "source": [
    "Now that we talked about the findings, these are some of the things I want to work on as I venture out to find new ways to make this project better in the future (or if others are up to the challenge to do it themselves!)...\n",
    "\n",
    "- Lower Overfitting! Lowering the noise and performing more optimization steps may help with overfitting.\n",
    "- In this project, only a select few of Positive/Negative coefficients were used. Perhaps it would be useful to see a higher number—especially since the coefficients are rather high. It would be good to do some feature-importance as well.\n",
    "- Using Named Entity Recognition in the analysis to help classify the tokens more accurately. This can help me segregate the characteristics even better (or filter some out).\n",
    "- Implement a decision tree or random forest analysis to see if those models can provide further insight.\n",
    "- Apply neural networks to discover deeper patterns in the data and more accurate predictions.\n",
    "- Apply ensemble learning techniques to improve the model test score overall."
   ]
  },
  {
   "cell_type": "markdown",
   "id": "8443ea5e-669c-49af-a3fb-f5e7fb46a470",
   "metadata": {},
   "source": [
    "***"
   ]
  }
 ],
 "metadata": {
  "kernelspec": {
   "display_name": "Python 3 (ipykernel)",
   "language": "python",
   "name": "python3"
  },
  "language_info": {
   "codemirror_mode": {
    "name": "ipython",
    "version": 3
   },
   "file_extension": ".py",
   "mimetype": "text/x-python",
   "name": "python",
   "nbconvert_exporter": "python",
   "pygments_lexer": "ipython3",
   "version": "3.9.7"
  },
  "toc-autonumbering": false,
  "toc-showmarkdowntxt": false
 },
 "nbformat": 4,
 "nbformat_minor": 5
}
