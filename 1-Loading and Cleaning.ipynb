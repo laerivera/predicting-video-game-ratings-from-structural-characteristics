{
 "cells": [
  {
   "cell_type": "markdown",
   "id": "4a6583ef-4924-4e6e-a948-617c85ceee11",
   "metadata": {},
   "source": [
    "# G.G, Good Game! Investigating the Structural Characteristics that Make Highly-Rated Video Games"
   ]
  },
  {
   "cell_type": "markdown",
   "id": "6b60a1ef-c6b4-45d5-9441-53a50f8131fa",
   "metadata": {
    "tags": []
   },
   "source": [
    "# Notebook 1: Loading and Cleaning Data\n",
    "**Steps to load, clean, and analyze the data upon first inspection.**\n",
    "\n",
    "&nbsp;\n",
    "\n",
    "**By: [Lae Rivera](https://github.com/laerivera)**\n",
    "\n",
    "**BrainStation Data Science**\n",
    "\n",
    "**April 4, 2022**\n",
    "\n",
    "In this portion of the notebook, I will first define the purpose of this project where I discuss the reasons for doing my analysis.  I then will begin the fundamental steps to loading and cleaning the data."
   ]
  },
  {
   "cell_type": "markdown",
   "id": "7c2d65d0-9069-485f-8e6d-fc056e34c75d",
   "metadata": {},
   "source": [
    "***"
   ]
  },
  {
   "cell_type": "markdown",
   "id": "91a907d2-e519-44fd-adb8-7172502be1dd",
   "metadata": {},
   "source": [
    "## Notebook Contents\n",
    "\n",
    "1. [**Introduction**](#a1)<br>\n",
    "    1.1 [Problem Statement](#a1.1)<br>\n",
    "    1.2 [Data Collection](#a1.2)<br>\n",
    "\n",
    "2. [**Loading & Checking**](#a2)<br>\n",
    "    2.1 [Data and Column Descriptions](#a2.1)<br>\n",
    "    \n",
    "3. [**Investigate Columns**](#a3)<br>\n",
    "    3.1.[Correcting Data Types](#a3.1)<br>\n",
    "    3.2.[Remove Null Values](#a3.2)<br>\n",
    "        \n",
    "4. [**Creating Features**](#a4)<br>"
   ]
  },
  {
   "cell_type": "markdown",
   "id": "fc4107d6-3d0d-448a-ad5d-e014d828f1ca",
   "metadata": {},
   "source": [
    "***"
   ]
  },
  {
   "cell_type": "markdown",
   "id": "39a8f48b-e7d8-48fd-a32f-c5c6f3388116",
   "metadata": {},
   "source": [
    "# Introduction <a id=\"a1\"></a>"
   ]
  },
  {
   "cell_type": "markdown",
   "id": "a8240d6e-fbc1-422f-9cb6-33c2fd8d40eb",
   "metadata": {
    "tags": []
   },
   "source": [
    "\n",
    "\n",
    "**Problem Statement** <a id=\"a1.1\"></a>\n",
    "\n",
    "Through emerging technologies and a fresh load of new releases, the video game industry is expected to be worth over $314 billion USD within the next 4 years. The problem is, recent trends show the highest rated games have been struck with delays, incomplete releases, and poor reviews and ratings—which continues to not only disappoint the community, but lose trust in the quality these releases provide. However, there seems to be games that constantly remain popular, even years after its release, which leaves some to wonder— what do these games have in common? \n",
    "\n",
    "The goal of this project is to explore the structural characteristics  that make superior, highly rated video games.  I hope the conclusions drawn by the end of this investigation sheds useful and actionable insights for small, new, or at-home indie game developers on what qualities to include if a game is to receive a high rating score. This would especially help gain some traction to perhaps receive more funding,  better marketing, and simply,  just be recognized.\n",
    "\n",
    "**Data Collection** <a id=\"a1.2\"></a>\n",
    "\n",
    "The data used in this project was web-scraped  from the Metacritic website. The dataset was then published on Kaggle by user DeepContractor titled, [Top Video Games 1995-2021 Metacritic](https://www.kaggle.com/datasets/deepcontractor/top-video-games-19952021-metacritic), and contains a large list of video game review scores along with the following attributes:  game title, release date, descriptive game summary/premise, meta score achieved, and user review given. The dataset is updated on an annual basis and contains a mixture of both numeric and non-numeric data types. \n",
    "\n",
    "An instant direct download link to the dataset can be found [here](https://drive.google.com/uc?export=download&id=1Se0Uazu9SQn_ifH57VnSDVl1SHnxEFBG)"
   ]
  },
  {
   "cell_type": "markdown",
   "id": "9aec84c2-684a-4da2-84f4-e54c7907e2a6",
   "metadata": {},
   "source": [
    "***"
   ]
  },
  {
   "cell_type": "markdown",
   "id": "4b2781ad-955c-4766-a9ad-be14c7aac0f5",
   "metadata": {},
   "source": [
    "**Importing Libraries**\n",
    "\n",
    "These will be the libraries I will be needing to conduct analysis on the data."
   ]
  },
  {
   "cell_type": "code",
   "execution_count": 1,
   "id": "b7e2a160-fc7b-48ae-ac95-24adaa61f8a5",
   "metadata": {},
   "outputs": [],
   "source": [
    "# Importing libraries\n",
    "\n",
    "# Main Libraries\n",
    "import numpy as np\n",
    "import pandas as pd\n",
    "import joblib"
   ]
  },
  {
   "cell_type": "markdown",
   "id": "0b07cae1-c6a4-4cd0-aad3-660ff3e18d75",
   "metadata": {},
   "source": [
    "***"
   ]
  },
  {
   "cell_type": "markdown",
   "id": "d7866651-ee46-4e14-8ff4-b7e40ae9bdb3",
   "metadata": {
    "tags": []
   },
   "source": [
    "# Loading & Checking Data <a id=\"a2\"></a>"
   ]
  },
  {
   "cell_type": "markdown",
   "id": "d37fcc9e-ba11-4fe9-ac92-7c5de73b0bb2",
   "metadata": {},
   "source": [
    "### Data and Column Descriptions <a id=\"a2.1\"></a>"
   ]
  },
  {
   "cell_type": "markdown",
   "id": "ba2b1404-b0fc-43a3-8a0d-d2dc26f0b5b5",
   "metadata": {},
   "source": [
    "Before any data analysis can begin, I want to take a quick look and explrore the data."
   ]
  },
  {
   "cell_type": "code",
   "execution_count": 2,
   "id": "71fe4927-c111-4626-820e-fb7625ac03da",
   "metadata": {},
   "outputs": [],
   "source": [
    "# Read in data from my data folder\n",
    "games_df = pd.read_csv(\"data/all_games.csv\")"
   ]
  },
  {
   "cell_type": "code",
   "execution_count": 3,
   "id": "e3a779f5-69dc-4ab2-a5ae-dd28b27043da",
   "metadata": {},
   "outputs": [
    {
     "data": {
      "text/html": [
       "<div>\n",
       "<style scoped>\n",
       "    .dataframe tbody tr th:only-of-type {\n",
       "        vertical-align: middle;\n",
       "    }\n",
       "\n",
       "    .dataframe tbody tr th {\n",
       "        vertical-align: top;\n",
       "    }\n",
       "\n",
       "    .dataframe thead th {\n",
       "        text-align: right;\n",
       "    }\n",
       "</style>\n",
       "<table border=\"1\" class=\"dataframe\">\n",
       "  <thead>\n",
       "    <tr style=\"text-align: right;\">\n",
       "      <th></th>\n",
       "      <th>name</th>\n",
       "      <th>platform</th>\n",
       "      <th>release_date</th>\n",
       "      <th>summary</th>\n",
       "      <th>meta_score</th>\n",
       "      <th>user_review</th>\n",
       "    </tr>\n",
       "  </thead>\n",
       "  <tbody>\n",
       "    <tr>\n",
       "      <th>0</th>\n",
       "      <td>The Legend of Zelda: Ocarina of Time</td>\n",
       "      <td>Nintendo 64</td>\n",
       "      <td>November 23, 1998</td>\n",
       "      <td>As a young boy, Link is tricked by Ganondorf, ...</td>\n",
       "      <td>99</td>\n",
       "      <td>9.1</td>\n",
       "    </tr>\n",
       "    <tr>\n",
       "      <th>1</th>\n",
       "      <td>Tony Hawk's Pro Skater 2</td>\n",
       "      <td>PlayStation</td>\n",
       "      <td>September 20, 2000</td>\n",
       "      <td>As most major publishers' development efforts ...</td>\n",
       "      <td>98</td>\n",
       "      <td>7.4</td>\n",
       "    </tr>\n",
       "    <tr>\n",
       "      <th>2</th>\n",
       "      <td>Grand Theft Auto IV</td>\n",
       "      <td>PlayStation 3</td>\n",
       "      <td>April 29, 2008</td>\n",
       "      <td>[Metacritic's 2008 PS3 Game of the Year; Also ...</td>\n",
       "      <td>98</td>\n",
       "      <td>7.7</td>\n",
       "    </tr>\n",
       "    <tr>\n",
       "      <th>3</th>\n",
       "      <td>SoulCalibur</td>\n",
       "      <td>Dreamcast</td>\n",
       "      <td>September 8, 1999</td>\n",
       "      <td>This is a tale of souls and swords, transcendi...</td>\n",
       "      <td>98</td>\n",
       "      <td>8.4</td>\n",
       "    </tr>\n",
       "    <tr>\n",
       "      <th>4</th>\n",
       "      <td>Grand Theft Auto IV</td>\n",
       "      <td>Xbox 360</td>\n",
       "      <td>April 29, 2008</td>\n",
       "      <td>[Metacritic's 2008 Xbox 360 Game of the Year; ...</td>\n",
       "      <td>98</td>\n",
       "      <td>7.9</td>\n",
       "    </tr>\n",
       "  </tbody>\n",
       "</table>\n",
       "</div>"
      ],
      "text/plain": [
       "                                   name        platform        release_date  \\\n",
       "0  The Legend of Zelda: Ocarina of Time     Nintendo 64   November 23, 1998   \n",
       "1              Tony Hawk's Pro Skater 2     PlayStation  September 20, 2000   \n",
       "2                   Grand Theft Auto IV   PlayStation 3      April 29, 2008   \n",
       "3                           SoulCalibur       Dreamcast   September 8, 1999   \n",
       "4                   Grand Theft Auto IV        Xbox 360      April 29, 2008   \n",
       "\n",
       "                                             summary  meta_score user_review  \n",
       "0  As a young boy, Link is tricked by Ganondorf, ...          99         9.1  \n",
       "1  As most major publishers' development efforts ...          98         7.4  \n",
       "2  [Metacritic's 2008 PS3 Game of the Year; Also ...          98         7.7  \n",
       "3  This is a tale of souls and swords, transcendi...          98         8.4  \n",
       "4  [Metacritic's 2008 Xbox 360 Game of the Year; ...          98         7.9  "
      ]
     },
     "execution_count": 3,
     "metadata": {},
     "output_type": "execute_result"
    }
   ],
   "source": [
    "# View first 5 rows\n",
    "games_df.head() "
   ]
  },
  {
   "cell_type": "code",
   "execution_count": 4,
   "id": "0d4f585f-37f3-421c-a86a-10a452d826f0",
   "metadata": {},
   "outputs": [
    {
     "name": "stdout",
     "output_type": "stream",
     "text": [
      "Shape of the dataset: (18800, 6)\n"
     ]
    }
   ],
   "source": [
    "# Returns shape of the dataframe\n",
    "print(f\"Shape of the dataset: {games_df.shape}\")"
   ]
  },
  {
   "cell_type": "code",
   "execution_count": 5,
   "id": "fff86a7c-a665-4ce0-9fc4-39612f9e94d3",
   "metadata": {},
   "outputs": [
    {
     "name": "stdout",
     "output_type": "stream",
     "text": [
      "List of Columns:\n"
     ]
    },
    {
     "data": {
      "text/plain": [
       "['name', 'platform', 'release_date', 'summary', 'meta_score', 'user_review']"
      ]
     },
     "execution_count": 5,
     "metadata": {},
     "output_type": "execute_result"
    }
   ],
   "source": [
    "# Returns the list of columns\n",
    "print(\"List of Columns:\")\n",
    "list(games_df.columns)"
   ]
  },
  {
   "cell_type": "markdown",
   "id": "1451615c-2e23-47b2-9564-38f06f595b3a",
   "metadata": {},
   "source": [
    "***"
   ]
  },
  {
   "cell_type": "markdown",
   "id": "1f4ebecd-2eaf-4533-9b89-0ea3125e0cdc",
   "metadata": {},
   "source": [
    "**Column Description**"
   ]
  },
  {
   "cell_type": "markdown",
   "id": "cb3651b3-afb2-42b0-8432-247d0933deeb",
   "metadata": {
    "tags": []
   },
   "source": [
    "\n",
    "`name`: contains the name/title of the video game\n",
    "\n",
    "`platform`: contains the computer system the game runs on\n",
    "\n",
    "`release_date`: the date when the game was released; includes the Month, Day and Year (in that order)\n",
    "\n",
    "`summary`:  the game's premise; includes 'Game of the Year' tag\n",
    "\n",
    "`meta_score`: meta score received; integer from 0-100\n",
    "\n",
    "`user_review`: user score received; decimal from 0-10\n",
    "\n",
    "&nbsp;\n",
    "***"
   ]
  },
  {
   "cell_type": "markdown",
   "id": "0724ff37-cb24-4552-a19d-bc47826b5ead",
   "metadata": {
    "tags": []
   },
   "source": [
    "# Investigate Columns <a id=\"a3\"></a>"
   ]
  },
  {
   "cell_type": "markdown",
   "id": "b71ca838-61eb-4750-beb1-1beac02e21bf",
   "metadata": {},
   "source": [
    "**Dataset Summary Information**"
   ]
  },
  {
   "cell_type": "code",
   "execution_count": 6,
   "id": "21cff9d2-d1e4-4ee4-b7d5-db5aef6e9841",
   "metadata": {},
   "outputs": [
    {
     "name": "stdout",
     "output_type": "stream",
     "text": [
      "<class 'pandas.core.frame.DataFrame'>\n",
      "RangeIndex: 18800 entries, 0 to 18799\n",
      "Data columns (total 6 columns):\n",
      " #   Column        Non-Null Count  Dtype \n",
      "---  ------        --------------  ----- \n",
      " 0   name          18800 non-null  object\n",
      " 1   platform      18800 non-null  object\n",
      " 2   release_date  18800 non-null  object\n",
      " 3   summary       18686 non-null  object\n",
      " 4   meta_score    18800 non-null  int64 \n",
      " 5   user_review   18800 non-null  object\n",
      "dtypes: int64(1), object(5)\n",
      "memory usage: 881.4+ KB\n"
     ]
    }
   ],
   "source": [
    "# Checking data types and columns\n",
    "games_df.info()"
   ]
  },
  {
   "cell_type": "code",
   "execution_count": 7,
   "id": "e323f0f6-f02f-4ac4-b5ba-eeced4a4142f",
   "metadata": {},
   "outputs": [
    {
     "name": "stdout",
     "output_type": "stream",
     "text": [
      "Initial Percentage of Null Values %\n"
     ]
    },
    {
     "data": {
      "text/plain": [
       "name            0.00\n",
       "platform        0.00\n",
       "release_date    0.00\n",
       "summary         0.61\n",
       "meta_score      0.00\n",
       "user_review     0.00\n",
       "dtype: float64"
      ]
     },
     "execution_count": 7,
     "metadata": {},
     "output_type": "execute_result"
    }
   ],
   "source": [
    "#Initial percentage of null values \n",
    "print(\"Initial Percentage of Null Values %\")\n",
    "round(games_df.isna().sum()/len(games_df)*100, 2) #coverted into a percent(%) and round to 2 decimal places"
   ]
  },
  {
   "cell_type": "markdown",
   "id": "5cba2155-2996-47f4-97cb-48ce323b895c",
   "metadata": {},
   "source": [
    "&nbsp;\n",
    "\n",
    "There seems to be some discrepanices between some columns and its datatype. For example, looking at the dataframe initially, the `user_review` column is *clearly a decimal value*, thus I would expect to see a *float* data type——instead, we can see that it is a string data type. I will investigate the cause of this and make some changes during processing later on. Additionally, there seems to be some null values present under the summary column. This values make up less than ~1% of the dataset and since this amount is so small, I may just drop these rows. However, I will first continue to investigate other columns before dropping anything."
   ]
  },
  {
   "cell_type": "markdown",
   "id": "5e58e50e-4473-4032-8432-48fe53465fb3",
   "metadata": {},
   "source": [
    "***"
   ]
  },
  {
   "cell_type": "markdown",
   "id": "2794e70a-d158-4e75-a2f1-863e0667e315",
   "metadata": {
    "tags": []
   },
   "source": [
    "## Correcting Data Types <a id=\"a3.1\"></a>"
   ]
  },
  {
   "cell_type": "markdown",
   "id": "7a349a5a-20f9-42a9-aba3-e5f04e6aed40",
   "metadata": {},
   "source": [
    "**Change `release_date` to a datetime format**"
   ]
  },
  {
   "cell_type": "code",
   "execution_count": 8,
   "id": "78986b44-de2e-4d1f-84bd-fc58d7398250",
   "metadata": {},
   "outputs": [],
   "source": [
    "# Change release date into datetime format\n",
    "games_df['release_date'] = pd.to_datetime(games_df['release_date']) #overwrite datatype changes to existing column"
   ]
  },
  {
   "cell_type": "code",
   "execution_count": 9,
   "id": "deb741ae-26d4-4c29-a1aa-e43169d2d187",
   "metadata": {},
   "outputs": [
    {
     "data": {
      "text/plain": [
       "dtype('<M8[ns]')"
      ]
     },
     "execution_count": 9,
     "metadata": {},
     "output_type": "execute_result"
    }
   ],
   "source": [
    "# Verify Changes\n",
    "games_df['release_date'].dtypes "
   ]
  },
  {
   "cell_type": "markdown",
   "id": "a23d8e8e-24c1-4dcc-928b-4da63b22511f",
   "metadata": {},
   "source": [
    "'*<M8[ns]*' indicates a datetime format!"
   ]
  },
  {
   "cell_type": "markdown",
   "id": "c0fc1337-6357-46f2-b30f-6ecb089a6675",
   "metadata": {},
   "source": [
    "---"
   ]
  },
  {
   "cell_type": "markdown",
   "id": "c1d30661-b577-41e2-aae0-00e1accc3fbb",
   "metadata": {},
   "source": [
    "**Change `user_review` to a float/integer**"
   ]
  },
  {
   "cell_type": "markdown",
   "id": "813d8e8d-b7ed-47da-8759-9e5d1da59981",
   "metadata": {},
   "source": [
    "When attempting to change 'user_review', I noticed **a simple `astype()` code is not working**. Upon investigation, I discovered this was because when the dataset was scraped from the Metacritic website, some newly added games that were listed on the website had **not yet received any User Review scores**, thus leaving a 'to be determined' (tbd) status. (see below)"
   ]
  },
  {
   "cell_type": "code",
   "execution_count": 10,
   "id": "689fca3a-fe6c-415b-9d3a-ed160e4cf2ba",
   "metadata": {},
   "outputs": [
    {
     "data": {
      "text/plain": [
       "array(['9.1', '7.4', '7.7', '8.4', '7.9', '8.0', '8.3', '6.2', '8.7',\n",
       "       '7.5', '8.8', '8.5', '8.6', '8.9', '8.2', '9.2', '7.8', '9.0',\n",
       "       '9.3', '8.1', '6.8', '7.6', '6.9', '6.6', '7.3', '7.2', '9.4',\n",
       "       '5.7', '6.0', '5.8', '7.1', '3.3', '5.0', '5.5', '6.5', '5.9',\n",
       "       '6.7', '3.8', '6.4', '7.0', '6.3', '4.9', 'tbd', '5.3', '3.5',\n",
       "       '4.7', '6.1', '4.8', '4.1', '5.6', '4.4', '5.4', '4.6', '3.1',\n",
       "       '5.2', '4.3', '1.8', '4.5', '5.1', '4.2', '4.0', '9.7', '3.2',\n",
       "       '2.9', '2.1', '2.4', '3.4', '3.0', '3.7', '2.2', '2.6', '2.7',\n",
       "       '2.5', '2.8', '3.9', '2.0', '9.6', '1.5', '3.6', '1.4', '1.2',\n",
       "       '0.9', '1.9', '1.1', '1.7', '0.8', '1.0', '0.6', '2.3', '0.5',\n",
       "       '1.6', '0.2', '0.7', '1.3'], dtype=object)"
      ]
     },
     "execution_count": 10,
     "metadata": {},
     "output_type": "execute_result"
    }
   ],
   "source": [
    "# Checks the values in 'user_review'\n",
    "games_df.user_review.unique()"
   ]
  },
  {
   "cell_type": "code",
   "execution_count": 11,
   "id": "4925dcd8-c5bc-4c33-a508-11042bd41964",
   "metadata": {},
   "outputs": [
    {
     "name": "stdout",
     "output_type": "stream",
     "text": [
      "Percentage of rows contains `tba` user review: 7.26%\n"
     ]
    }
   ],
   "source": [
    "# Relative distribution of unique values in user_review\n",
    "user_review_percentage = games_df['user_review'].value_counts(normalize=True).sort_index(ascending=False).sort_values(ascending=False)*100.00\n",
    "\n",
    "#What percentage of whole column this makes up\n",
    "print(f'Percentage of rows contains `tba` user review: {round(user_review_percentage[0], 2)}%')"
   ]
  },
  {
   "cell_type": "markdown",
   "id": "c463f086-d15f-48b7-9c7f-e4f59fb92cbe",
   "metadata": {},
   "source": [
    "**The amount of 'tbd' rows make up around ~7% of the dataset**. This is far too many rows to drop right away. Since I would like to preserve as much data as possible, I will fill in these missing values. "
   ]
  },
  {
   "cell_type": "markdown",
   "id": "9456a86c-3383-48b1-936d-c10ff4cebcd7",
   "metadata": {},
   "source": [
    "---"
   ]
  },
  {
   "cell_type": "markdown",
   "id": "8f749e1d-3eb9-4278-a768-3b1fb189ae08",
   "metadata": {},
   "source": [
    "### Fill in missing values in user_review"
   ]
  },
  {
   "cell_type": "markdown",
   "id": "4af55f27-54ed-4aa6-9789-3e29d3b1d293",
   "metadata": {},
   "source": [
    "**Goal**: \n",
    "My goal here is to fill in as much of the 'tbd' user_score with other values (such as an aggregated mean). I want to reduce the amount of missing values to a threshold that is acceptable where I can just drop the rows. In this case, I am aiming for roughly 5% total percentage of nulls before dropping.\n",
    "\n",
    "**Filling in Plan:**\n",
    "- Create a dataframe *without* 'tbd' user review scores \n",
    "    \n",
    "- Group this newly created dataframe with only non-tbd values by game `name` and calculate **average `user_review` per game**. This is done because there are instances of rows having the *same* game name, but on different platforms-that have different user scores. Getting an average of these user scores will be a good value to impute to the missing values.\n",
    "    \n",
    "- We now have a dataframe of **`game name and average user_review`** to help fill in the missing values"
   ]
  },
  {
   "cell_type": "markdown",
   "id": "fc0cee5a-cc4c-4ac0-b628-97b9368f47b5",
   "metadata": {},
   "source": [
    "#### Step 1: Isolate non-tbd values"
   ]
  },
  {
   "cell_type": "code",
   "execution_count": 12,
   "id": "42b01e29-db22-44c6-9bdd-c6a9e448bc2f",
   "metadata": {},
   "outputs": [],
   "source": [
    "# Create dataframe dropping all user_review with 'tbd' rows to get a clean dataset\n",
    "games_no_tbd = games_df.drop(games_df[games_df.user_review == 'tbd'].index)"
   ]
  },
  {
   "cell_type": "code",
   "execution_count": 13,
   "id": "fc473323-1dad-4c8a-8336-f127ac55b427",
   "metadata": {},
   "outputs": [],
   "source": [
    "# Turn datatype from object to float so calculations can be done\n",
    "games_no_tbd['user_review'] = games_no_tbd['user_review'].astype(float)"
   ]
  },
  {
   "cell_type": "code",
   "execution_count": 14,
   "id": "c368249b-0f9f-4a31-820e-f5af6d38fb4f",
   "metadata": {},
   "outputs": [
    {
     "data": {
      "text/plain": [
       "count    17435.000000\n",
       "mean         6.990846\n",
       "std          1.351554\n",
       "min          0.200000\n",
       "25%          6.300000\n",
       "50%          7.300000\n",
       "75%          7.900000\n",
       "max          9.700000\n",
       "Name: user_review, dtype: float64"
      ]
     },
     "execution_count": 14,
     "metadata": {},
     "output_type": "execute_result"
    }
   ],
   "source": [
    "# Summary statistics for games_no_tbd\n",
    "games_no_tbd['user_review'].describe()"
   ]
  },
  {
   "cell_type": "markdown",
   "id": "1ce787bb-ed28-4110-9a6c-5c52fc1ee73f",
   "metadata": {},
   "source": [
    "With non-'tbd' data isolated, I can change the data type of the `user_review` column to a float. This would allow me to apply calculations to this column."
   ]
  },
  {
   "cell_type": "markdown",
   "id": "c525795f-d850-4f2a-9a0b-b5dc8e3d649f",
   "metadata": {},
   "source": [
    "#### Step 2: Calculate average user_review score per game on non-tbd values"
   ]
  },
  {
   "cell_type": "code",
   "execution_count": 15,
   "id": "4decd398-8317-4a35-a385-56e572bb40a9",
   "metadata": {},
   "outputs": [],
   "source": [
    "# Group by game name and get the average user score\n",
    "games_no_tbd_avg_user_review = games_no_tbd.groupby(['name'], as_index = False)['user_review'].mean()"
   ]
  },
  {
   "cell_type": "code",
   "execution_count": 16,
   "id": "ab667d0f-a7e2-40a6-9bd2-dc696a0f12b1",
   "metadata": {},
   "outputs": [],
   "source": [
    "# Change column name to reflect mean calculations\n",
    "games_no_tbd_avg_user_review = games_no_tbd_avg_user_review.rename(columns={'user_review': 'average_user_review'})"
   ]
  },
  {
   "cell_type": "code",
   "execution_count": 17,
   "id": "e3a69c7e-5a88-4c32-91f0-db9335df133b",
   "metadata": {
    "scrolled": true
   },
   "outputs": [
    {
     "data": {
      "text/html": [
       "<div>\n",
       "<style scoped>\n",
       "    .dataframe tbody tr th:only-of-type {\n",
       "        vertical-align: middle;\n",
       "    }\n",
       "\n",
       "    .dataframe tbody tr th {\n",
       "        vertical-align: top;\n",
       "    }\n",
       "\n",
       "    .dataframe thead th {\n",
       "        text-align: right;\n",
       "    }\n",
       "</style>\n",
       "<table border=\"1\" class=\"dataframe\">\n",
       "  <thead>\n",
       "    <tr style=\"text-align: right;\">\n",
       "      <th></th>\n",
       "      <th>name</th>\n",
       "      <th>average_user_review</th>\n",
       "    </tr>\n",
       "  </thead>\n",
       "  <tbody>\n",
       "    <tr>\n",
       "      <th>0</th>\n",
       "      <td>#IDARB</td>\n",
       "      <td>6.90</td>\n",
       "    </tr>\n",
       "    <tr>\n",
       "      <th>1</th>\n",
       "      <td>'Splosion Man</td>\n",
       "      <td>7.80</td>\n",
       "    </tr>\n",
       "    <tr>\n",
       "      <th>2</th>\n",
       "      <td>.detuned</td>\n",
       "      <td>3.70</td>\n",
       "    </tr>\n",
       "    <tr>\n",
       "      <th>3</th>\n",
       "      <td>.hack//G.U. Last Recode</td>\n",
       "      <td>8.15</td>\n",
       "    </tr>\n",
       "    <tr>\n",
       "      <th>4</th>\n",
       "      <td>.hack//G.U. vol. 1//Rebirth</td>\n",
       "      <td>8.10</td>\n",
       "    </tr>\n",
       "  </tbody>\n",
       "</table>\n",
       "</div>"
      ],
      "text/plain": [
       "                          name  average_user_review\n",
       "0                       #IDARB                 6.90\n",
       "1                'Splosion Man                 7.80\n",
       "2                     .detuned                 3.70\n",
       "3      .hack//G.U. Last Recode                 8.15\n",
       "4  .hack//G.U. vol. 1//Rebirth                 8.10"
      ]
     },
     "execution_count": 17,
     "metadata": {},
     "output_type": "execute_result"
    }
   ],
   "source": [
    "games_no_tbd_avg_user_review.head()"
   ]
  },
  {
   "cell_type": "markdown",
   "id": "d1744c83-8ff0-4d49-af77-a5dfa219360e",
   "metadata": {},
   "source": [
    "As seen in the games_no_tbd_avg_user_review dataframe, we grouped all the unique game titles (names) together and aggregated an average user_review score. This dataframe will serve as our reference in imputing the missing values."
   ]
  },
  {
   "cell_type": "markdown",
   "id": "77579779-26c6-4e21-8c34-9ada7073afcf",
   "metadata": {},
   "source": [
    "#### Step 3: Correct 'tbd' to proper NaN value"
   ]
  },
  {
   "cell_type": "markdown",
   "id": "d28fd907-fbfc-4536-88a1-8566dfefa804",
   "metadata": {},
   "source": [
    "Back to the original dataframe, we can replace all 'tbd' values into a proper null value to reflect more clearly the nature of the 'tbd' value—that it is a missing value. This also allows us to calculate all null values using a single code. \n",
    "\n",
    "*Note: Pandas treats NaN and Null values the [same](https://www.geeksforgeeks.org/working-with-missing-data-in-pandas/)—both indicative of missing values*"
   ]
  },
  {
   "cell_type": "code",
   "execution_count": 18,
   "id": "9c6d887f-e054-47e0-852a-45eb6c5f4c10",
   "metadata": {},
   "outputs": [],
   "source": [
    "# Replace the 'tbd' with None to make it a true null value\n",
    "games_df[\"user_review\"].replace('tbd', np.NaN, inplace=True)"
   ]
  },
  {
   "cell_type": "markdown",
   "id": "5fc684c4-970c-42b0-84f9-a9946f904063",
   "metadata": {},
   "source": [
    "Finally, we can change the data type of user_review to a float so it can reflect the true data type of user reviews (decimal number from 0-10)."
   ]
  },
  {
   "cell_type": "code",
   "execution_count": 19,
   "id": "57c33ba0-e285-4f69-8c00-cf8ed8cb45a8",
   "metadata": {},
   "outputs": [],
   "source": [
    "# Make datatype a float\n",
    "games_df['user_review'] = games_df[\"user_review\"].astype(float)"
   ]
  },
  {
   "cell_type": "code",
   "execution_count": 20,
   "id": "1ed79f8e-9e42-4108-8499-5e1d369a6bdc",
   "metadata": {},
   "outputs": [
    {
     "data": {
      "text/plain": [
       "name                    object\n",
       "platform                object\n",
       "release_date    datetime64[ns]\n",
       "summary                 object\n",
       "meta_score               int64\n",
       "user_review            float64\n",
       "dtype: object"
      ]
     },
     "execution_count": 20,
     "metadata": {},
     "output_type": "execute_result"
    }
   ],
   "source": [
    "# Check datatype\n",
    "games_df.dtypes"
   ]
  },
  {
   "cell_type": "markdown",
   "id": "3000960f-19a5-40f5-9c7a-b152cd4f0e0e",
   "metadata": {},
   "source": [
    "`user_review` is now a float data type! "
   ]
  },
  {
   "cell_type": "code",
   "execution_count": 21,
   "id": "fb1e9bfd-7ea3-4909-91e8-8257f53495c4",
   "metadata": {},
   "outputs": [
    {
     "data": {
      "text/plain": [
       "name               0\n",
       "platform           0\n",
       "release_date       0\n",
       "summary          114\n",
       "meta_score         0\n",
       "user_review     1365\n",
       "dtype: int64"
      ]
     },
     "execution_count": 21,
     "metadata": {},
     "output_type": "execute_result"
    }
   ],
   "source": [
    "# Null value count\n",
    "games_df.isna().sum()"
   ]
  },
  {
   "cell_type": "markdown",
   "id": "f79a6b9d-85e4-498a-aea2-7ec8ebdc6a27",
   "metadata": {},
   "source": [
    "Here, we can see that 'tbd' is now a *proper* null value. Earlier we counted the amount of 'tbd' columns, which is 1365. Since I replaced 'tbd' with 'NaN', *these numbers should correspond to each other*. Here, we see the same number of NaN values- showing us the code worked!"
   ]
  },
  {
   "cell_type": "markdown",
   "id": "ed40b3c6-da9e-418c-80b9-8105a1c9caee",
   "metadata": {},
   "source": [
    "#### Step 4: Fill in NaN values with average user_review by matching game names"
   ]
  },
  {
   "cell_type": "code",
   "execution_count": 22,
   "id": "2197b2ad-55b4-42ef-bafe-1c32f893db06",
   "metadata": {
    "scrolled": true
   },
   "outputs": [],
   "source": [
    "# Filling matching game names \n",
    "games_df.set_index(\"name\", inplace=True)\n",
    "games_df[\"user_review\"].fillna(games_no_tbd_avg_user_review.set_index(\"name\")[\"average_user_review\"], inplace=True)\n",
    "games_df.reset_index(inplace=True)"
   ]
  },
  {
   "cell_type": "markdown",
   "id": "d7bd02e8-da3f-4032-a01b-32910a717487",
   "metadata": {},
   "source": [
    "The logic of the code above essentially sets the \"name\" column as an index to be matched. Next, I am filling in the user_review null values with the \"average_user_review\" *if* the game names are a match (and if user_review is null). "
   ]
  },
  {
   "cell_type": "code",
   "execution_count": 23,
   "id": "37c406af-eebb-4735-a4c2-682203b0c256",
   "metadata": {},
   "outputs": [
    {
     "name": "stdout",
     "output_type": "stream",
     "text": [
      "Count of Null Values\n"
     ]
    },
    {
     "data": {
      "text/plain": [
       "name              0\n",
       "platform          0\n",
       "release_date      0\n",
       "summary         114\n",
       "meta_score        0\n",
       "user_review     928\n",
       "dtype: int64"
      ]
     },
     "execution_count": 23,
     "metadata": {},
     "output_type": "execute_result"
    }
   ],
   "source": [
    "# Updated null count \n",
    "print(\"Count of Null Values\")\n",
    "games_df.isna().sum() "
   ]
  },
  {
   "cell_type": "code",
   "execution_count": 24,
   "id": "e8b4a355-194a-4c73-9bb8-782bbb622422",
   "metadata": {},
   "outputs": [
    {
     "name": "stdout",
     "output_type": "stream",
     "text": [
      "Percentage of Null Values %\n"
     ]
    },
    {
     "data": {
      "text/plain": [
       "name            0.00\n",
       "platform        0.00\n",
       "release_date    0.00\n",
       "summary         0.61\n",
       "meta_score      0.00\n",
       "user_review     4.94\n",
       "dtype: float64"
      ]
     },
     "execution_count": 24,
     "metadata": {},
     "output_type": "execute_result"
    }
   ],
   "source": [
    "# Updated Percentage of null values \n",
    "print(\"Percentage of Null Values %\")\n",
    "round(games_df.isna().sum()/len(games_df)*100, 2)"
   ]
  },
  {
   "cell_type": "markdown",
   "id": "5f710192-0385-4a41-a2c8-ddd50923a275",
   "metadata": {},
   "source": [
    "After imputing values, the percentage of null values in user_review went from 7.26% to 4.94%! This is a more acceptable drop. "
   ]
  },
  {
   "cell_type": "markdown",
   "id": "1aec2beb-3969-4314-b52e-aab995d43cc7",
   "metadata": {},
   "source": [
    "***"
   ]
  },
  {
   "cell_type": "markdown",
   "id": "da190a8a-7f46-4cc4-a60c-ebffffe5076d",
   "metadata": {},
   "source": [
    "#### Updated Data Types"
   ]
  },
  {
   "cell_type": "code",
   "execution_count": 25,
   "id": "ac47dd77-b3cd-4a30-b190-77449336cb1c",
   "metadata": {},
   "outputs": [
    {
     "data": {
      "text/plain": [
       "name                    object\n",
       "platform                object\n",
       "release_date    datetime64[ns]\n",
       "summary                 object\n",
       "meta_score               int64\n",
       "user_review            float64\n",
       "dtype: object"
      ]
     },
     "execution_count": 25,
     "metadata": {},
     "output_type": "execute_result"
    }
   ],
   "source": [
    "# Updated datatypes of columns\n",
    "games_df.dtypes"
   ]
  },
  {
   "cell_type": "markdown",
   "id": "cda2a54a-a50e-41a0-b62d-0a3dad8c59af",
   "metadata": {},
   "source": [
    "Now the data types are consistent with the information within the columns!"
   ]
  },
  {
   "cell_type": "markdown",
   "id": "841ed060-8f5d-4db6-aa88-a12145923b98",
   "metadata": {},
   "source": [
    "---"
   ]
  },
  {
   "cell_type": "markdown",
   "id": "995d3324-f645-4aa0-a228-ed82c2a2bda0",
   "metadata": {
    "tags": []
   },
   "source": [
    "## Remove Null Values <a id=\"a3.2\"></a>"
   ]
  },
  {
   "cell_type": "code",
   "execution_count": 26,
   "id": "2d2951b8-9835-4b67-9ba6-92b8bb153d8a",
   "metadata": {},
   "outputs": [
    {
     "name": "stdout",
     "output_type": "stream",
     "text": [
      "Percentage of Null Values %\n"
     ]
    },
    {
     "data": {
      "text/plain": [
       "name            0.00\n",
       "platform        0.00\n",
       "release_date    0.00\n",
       "summary         0.61\n",
       "meta_score      0.00\n",
       "user_review     4.94\n",
       "dtype: float64"
      ]
     },
     "execution_count": 26,
     "metadata": {},
     "output_type": "execute_result"
    }
   ],
   "source": [
    "print(\"Percentage of Null Values %\")\n",
    "round(games_df.isna().sum()/len(games_df)*100.00, 2)"
   ]
  },
  {
   "cell_type": "markdown",
   "id": "1cd43aa5-b2b7-455d-8095-e0b10668c2a7",
   "metadata": {},
   "source": [
    "The null values in `summary` make up less than 1% of the dataset. This value is not high enough to have an effect on the data should I choose to drop these rows. In total, the number of null values make up a *little over 5% of the data* (this also does not include rows that have both summary and user_review as 'null'). Since this value is low, I can acceptably drop the rows."
   ]
  },
  {
   "cell_type": "code",
   "execution_count": 27,
   "id": "693ad65c-c296-44cc-9754-a4da877e7657",
   "metadata": {},
   "outputs": [],
   "source": [
    "# Drop rows that are null\n",
    "games_df = games_df.dropna(axis=0) "
   ]
  },
  {
   "cell_type": "code",
   "execution_count": 28,
   "id": "e752f109-c72b-4483-908c-1adccdbacf98",
   "metadata": {},
   "outputs": [
    {
     "data": {
      "text/plain": [
       "name            0\n",
       "platform        0\n",
       "release_date    0\n",
       "summary         0\n",
       "meta_score      0\n",
       "user_review     0\n",
       "dtype: int64"
      ]
     },
     "execution_count": 28,
     "metadata": {},
     "output_type": "execute_result"
    }
   ],
   "source": [
    "# Confirm no null values\n",
    "games_df.isna().sum() "
   ]
  },
  {
   "cell_type": "markdown",
   "id": "737f8992-4608-4147-9191-227723e2fc2a",
   "metadata": {},
   "source": [
    "**No null values!**"
   ]
  },
  {
   "cell_type": "code",
   "execution_count": 29,
   "id": "ffab3ef6-ca42-4baa-8d6c-8f5370d2edea",
   "metadata": {},
   "outputs": [],
   "source": [
    "# Reset the index\n",
    "games_df.reset_index(drop=True, inplace=True)"
   ]
  },
  {
   "cell_type": "code",
   "execution_count": 30,
   "id": "59e6388a-fdd5-489c-8387-5039f9495b01",
   "metadata": {},
   "outputs": [
    {
     "data": {
      "text/html": [
       "<div>\n",
       "<style scoped>\n",
       "    .dataframe tbody tr th:only-of-type {\n",
       "        vertical-align: middle;\n",
       "    }\n",
       "\n",
       "    .dataframe tbody tr th {\n",
       "        vertical-align: top;\n",
       "    }\n",
       "\n",
       "    .dataframe thead th {\n",
       "        text-align: right;\n",
       "    }\n",
       "</style>\n",
       "<table border=\"1\" class=\"dataframe\">\n",
       "  <thead>\n",
       "    <tr style=\"text-align: right;\">\n",
       "      <th></th>\n",
       "      <th>name</th>\n",
       "      <th>platform</th>\n",
       "      <th>release_date</th>\n",
       "      <th>summary</th>\n",
       "      <th>meta_score</th>\n",
       "      <th>user_review</th>\n",
       "    </tr>\n",
       "  </thead>\n",
       "  <tbody>\n",
       "    <tr>\n",
       "      <th>0</th>\n",
       "      <td>The Legend of Zelda: Ocarina of Time</td>\n",
       "      <td>Nintendo 64</td>\n",
       "      <td>1998-11-23</td>\n",
       "      <td>As a young boy, Link is tricked by Ganondorf, ...</td>\n",
       "      <td>99</td>\n",
       "      <td>9.1</td>\n",
       "    </tr>\n",
       "    <tr>\n",
       "      <th>1</th>\n",
       "      <td>Tony Hawk's Pro Skater 2</td>\n",
       "      <td>PlayStation</td>\n",
       "      <td>2000-09-20</td>\n",
       "      <td>As most major publishers' development efforts ...</td>\n",
       "      <td>98</td>\n",
       "      <td>7.4</td>\n",
       "    </tr>\n",
       "    <tr>\n",
       "      <th>2</th>\n",
       "      <td>Grand Theft Auto IV</td>\n",
       "      <td>PlayStation 3</td>\n",
       "      <td>2008-04-29</td>\n",
       "      <td>[Metacritic's 2008 PS3 Game of the Year; Also ...</td>\n",
       "      <td>98</td>\n",
       "      <td>7.7</td>\n",
       "    </tr>\n",
       "    <tr>\n",
       "      <th>3</th>\n",
       "      <td>SoulCalibur</td>\n",
       "      <td>Dreamcast</td>\n",
       "      <td>1999-09-08</td>\n",
       "      <td>This is a tale of souls and swords, transcendi...</td>\n",
       "      <td>98</td>\n",
       "      <td>8.4</td>\n",
       "    </tr>\n",
       "    <tr>\n",
       "      <th>4</th>\n",
       "      <td>Grand Theft Auto IV</td>\n",
       "      <td>Xbox 360</td>\n",
       "      <td>2008-04-29</td>\n",
       "      <td>[Metacritic's 2008 Xbox 360 Game of the Year; ...</td>\n",
       "      <td>98</td>\n",
       "      <td>7.9</td>\n",
       "    </tr>\n",
       "  </tbody>\n",
       "</table>\n",
       "</div>"
      ],
      "text/plain": [
       "                                   name        platform release_date  \\\n",
       "0  The Legend of Zelda: Ocarina of Time     Nintendo 64   1998-11-23   \n",
       "1              Tony Hawk's Pro Skater 2     PlayStation   2000-09-20   \n",
       "2                   Grand Theft Auto IV   PlayStation 3   2008-04-29   \n",
       "3                           SoulCalibur       Dreamcast   1999-09-08   \n",
       "4                   Grand Theft Auto IV        Xbox 360   2008-04-29   \n",
       "\n",
       "                                             summary  meta_score  user_review  \n",
       "0  As a young boy, Link is tricked by Ganondorf, ...          99          9.1  \n",
       "1  As most major publishers' development efforts ...          98          7.4  \n",
       "2  [Metacritic's 2008 PS3 Game of the Year; Also ...          98          7.7  \n",
       "3  This is a tale of souls and swords, transcendi...          98          8.4  \n",
       "4  [Metacritic's 2008 Xbox 360 Game of the Year; ...          98          7.9  "
      ]
     },
     "execution_count": 30,
     "metadata": {},
     "output_type": "execute_result"
    }
   ],
   "source": [
    "games_df.head()"
   ]
  },
  {
   "cell_type": "markdown",
   "id": "63c96b8a-7fe6-4e88-91a9-fb4b4bc7c86c",
   "metadata": {},
   "source": [
    "Now there are no null values in the dataset. I also reset the index since I operated on the dataset. This leaves me with a cleaner dataframe that I can continue to work on."
   ]
  },
  {
   "cell_type": "markdown",
   "id": "857781ad-642c-4297-98c7-51f717c96347",
   "metadata": {},
   "source": [
    "***"
   ]
  },
  {
   "cell_type": "markdown",
   "id": "dd130219-87f5-489e-a9a6-0d203fae7784",
   "metadata": {},
   "source": [
    "# Creating Features <a id=\"a4\"></a>"
   ]
  },
  {
   "cell_type": "markdown",
   "id": "9745a25b-6b98-4d96-a8c3-47801ca3e782",
   "metadata": {},
   "source": [
    "#### Create a 'Year' and 'Month' column"
   ]
  },
  {
   "cell_type": "markdown",
   "id": "52435f86-fedf-419e-b25f-d62a00611414",
   "metadata": {},
   "source": [
    "I now wish to extract the year and the month column so it will be treated as numerical data that can be analyzed more closely. \n",
    "\n",
    "**Workflow Plan**:\n",
    "- I want to extract `year` and `month` details from the `release_date` column—which is a datetime data type. Extracting this will use dt [functions](https://docs.python.org/3/library/datetime.html) such as `dt.year` and `dt.month` to extract the year and month respectively.\n",
    "- A 'day' column will *not* be created since it will be too trivial a detail to include.\n",
    "- Year and Month is more than enough information to do analysis with."
   ]
  },
  {
   "cell_type": "code",
   "execution_count": 31,
   "id": "74eaf795-a52e-4804-8e19-b0b6a665a97c",
   "metadata": {},
   "outputs": [],
   "source": [
    "# Extracting year and month from date and creating new columns\n",
    "games_df['release_year'], games_df['release_month'] = games_df['release_date'].dt.year, games_df['release_date'].dt.month\n"
   ]
  },
  {
   "cell_type": "code",
   "execution_count": 32,
   "id": "6bba36e8-668d-4c1e-9142-fd37cd5918dd",
   "metadata": {},
   "outputs": [],
   "source": [
    "# Dropping original release_date column to avoid multicolliniearity and because it is redundant\n",
    "games_df = games_df.drop(columns=['release_date'])"
   ]
  },
  {
   "cell_type": "code",
   "execution_count": 33,
   "id": "97f9ed17-23d8-43bb-800f-0c4c3a69100f",
   "metadata": {},
   "outputs": [
    {
     "data": {
      "text/html": [
       "<div>\n",
       "<style scoped>\n",
       "    .dataframe tbody tr th:only-of-type {\n",
       "        vertical-align: middle;\n",
       "    }\n",
       "\n",
       "    .dataframe tbody tr th {\n",
       "        vertical-align: top;\n",
       "    }\n",
       "\n",
       "    .dataframe thead th {\n",
       "        text-align: right;\n",
       "    }\n",
       "</style>\n",
       "<table border=\"1\" class=\"dataframe\">\n",
       "  <thead>\n",
       "    <tr style=\"text-align: right;\">\n",
       "      <th></th>\n",
       "      <th>release_year</th>\n",
       "      <th>release_month</th>\n",
       "    </tr>\n",
       "  </thead>\n",
       "  <tbody>\n",
       "    <tr>\n",
       "      <th>0</th>\n",
       "      <td>1998</td>\n",
       "      <td>11</td>\n",
       "    </tr>\n",
       "    <tr>\n",
       "      <th>1</th>\n",
       "      <td>2000</td>\n",
       "      <td>9</td>\n",
       "    </tr>\n",
       "    <tr>\n",
       "      <th>2</th>\n",
       "      <td>2008</td>\n",
       "      <td>4</td>\n",
       "    </tr>\n",
       "    <tr>\n",
       "      <th>3</th>\n",
       "      <td>1999</td>\n",
       "      <td>9</td>\n",
       "    </tr>\n",
       "    <tr>\n",
       "      <th>4</th>\n",
       "      <td>2008</td>\n",
       "      <td>4</td>\n",
       "    </tr>\n",
       "  </tbody>\n",
       "</table>\n",
       "</div>"
      ],
      "text/plain": [
       "   release_year  release_month\n",
       "0          1998             11\n",
       "1          2000              9\n",
       "2          2008              4\n",
       "3          1999              9\n",
       "4          2008              4"
      ]
     },
     "execution_count": 33,
     "metadata": {},
     "output_type": "execute_result"
    }
   ],
   "source": [
    "# View newly created columns\n",
    "games_df[['release_year','release_month']].head()"
   ]
  },
  {
   "cell_type": "code",
   "execution_count": 34,
   "id": "9e8f94b6-5a47-45d0-b261-298bac574e93",
   "metadata": {},
   "outputs": [
    {
     "data": {
      "text/html": [
       "<div>\n",
       "<style scoped>\n",
       "    .dataframe tbody tr th:only-of-type {\n",
       "        vertical-align: middle;\n",
       "    }\n",
       "\n",
       "    .dataframe tbody tr th {\n",
       "        vertical-align: top;\n",
       "    }\n",
       "\n",
       "    .dataframe thead th {\n",
       "        text-align: right;\n",
       "    }\n",
       "</style>\n",
       "<table border=\"1\" class=\"dataframe\">\n",
       "  <thead>\n",
       "    <tr style=\"text-align: right;\">\n",
       "      <th></th>\n",
       "      <th>name</th>\n",
       "      <th>platform</th>\n",
       "      <th>summary</th>\n",
       "      <th>meta_score</th>\n",
       "      <th>user_review</th>\n",
       "      <th>release_year</th>\n",
       "      <th>release_month</th>\n",
       "    </tr>\n",
       "  </thead>\n",
       "  <tbody>\n",
       "    <tr>\n",
       "      <th>0</th>\n",
       "      <td>The Legend of Zelda: Ocarina of Time</td>\n",
       "      <td>Nintendo 64</td>\n",
       "      <td>As a young boy, Link is tricked by Ganondorf, ...</td>\n",
       "      <td>99</td>\n",
       "      <td>9.1</td>\n",
       "      <td>1998</td>\n",
       "      <td>11</td>\n",
       "    </tr>\n",
       "    <tr>\n",
       "      <th>1</th>\n",
       "      <td>Tony Hawk's Pro Skater 2</td>\n",
       "      <td>PlayStation</td>\n",
       "      <td>As most major publishers' development efforts ...</td>\n",
       "      <td>98</td>\n",
       "      <td>7.4</td>\n",
       "      <td>2000</td>\n",
       "      <td>9</td>\n",
       "    </tr>\n",
       "    <tr>\n",
       "      <th>2</th>\n",
       "      <td>Grand Theft Auto IV</td>\n",
       "      <td>PlayStation 3</td>\n",
       "      <td>[Metacritic's 2008 PS3 Game of the Year; Also ...</td>\n",
       "      <td>98</td>\n",
       "      <td>7.7</td>\n",
       "      <td>2008</td>\n",
       "      <td>4</td>\n",
       "    </tr>\n",
       "    <tr>\n",
       "      <th>3</th>\n",
       "      <td>SoulCalibur</td>\n",
       "      <td>Dreamcast</td>\n",
       "      <td>This is a tale of souls and swords, transcendi...</td>\n",
       "      <td>98</td>\n",
       "      <td>8.4</td>\n",
       "      <td>1999</td>\n",
       "      <td>9</td>\n",
       "    </tr>\n",
       "    <tr>\n",
       "      <th>4</th>\n",
       "      <td>Grand Theft Auto IV</td>\n",
       "      <td>Xbox 360</td>\n",
       "      <td>[Metacritic's 2008 Xbox 360 Game of the Year; ...</td>\n",
       "      <td>98</td>\n",
       "      <td>7.9</td>\n",
       "      <td>2008</td>\n",
       "      <td>4</td>\n",
       "    </tr>\n",
       "  </tbody>\n",
       "</table>\n",
       "</div>"
      ],
      "text/plain": [
       "                                   name        platform  \\\n",
       "0  The Legend of Zelda: Ocarina of Time     Nintendo 64   \n",
       "1              Tony Hawk's Pro Skater 2     PlayStation   \n",
       "2                   Grand Theft Auto IV   PlayStation 3   \n",
       "3                           SoulCalibur       Dreamcast   \n",
       "4                   Grand Theft Auto IV        Xbox 360   \n",
       "\n",
       "                                             summary  meta_score  user_review  \\\n",
       "0  As a young boy, Link is tricked by Ganondorf, ...          99          9.1   \n",
       "1  As most major publishers' development efforts ...          98          7.4   \n",
       "2  [Metacritic's 2008 PS3 Game of the Year; Also ...          98          7.7   \n",
       "3  This is a tale of souls and swords, transcendi...          98          8.4   \n",
       "4  [Metacritic's 2008 Xbox 360 Game of the Year; ...          98          7.9   \n",
       "\n",
       "   release_year  release_month  \n",
       "0          1998             11  \n",
       "1          2000              9  \n",
       "2          2008              4  \n",
       "3          1999              9  \n",
       "4          2008              4  "
      ]
     },
     "execution_count": 34,
     "metadata": {},
     "output_type": "execute_result"
    }
   ],
   "source": [
    "# View Dataframe after operations\n",
    "games_df.head() #view first 5 columns"
   ]
  },
  {
   "cell_type": "markdown",
   "id": "77c361eb-1c7b-45fd-9b15-07c714030c6c",
   "metadata": {},
   "source": [
    "As we can see, the dataframe now have `release_year` and `release_month` columns. The dataframe is looking good. I will now save my work into a pickle file and continue my data exploration."
   ]
  },
  {
   "cell_type": "markdown",
   "id": "0c3bd73b-3a0b-4709-bb74-335e67d8e48d",
   "metadata": {},
   "source": [
    "***"
   ]
  },
  {
   "cell_type": "markdown",
   "id": "504308a5-802f-4b53-aa43-db4e6080fdc8",
   "metadata": {
    "jp-MarkdownHeadingCollapsed": true,
    "tags": []
   },
   "source": [
    "**Saving Work**"
   ]
  },
  {
   "cell_type": "code",
   "execution_count": 35,
   "id": "30b9c695-4354-429d-89bd-56848765d5d0",
   "metadata": {},
   "outputs": [
    {
     "data": {
      "text/plain": [
       "['data/games_df.pkl']"
      ]
     },
     "execution_count": 35,
     "metadata": {},
     "output_type": "execute_result"
    }
   ],
   "source": [
    "# Save data as pickle file in my data folder\n",
    "joblib.dump(games_df, 'data/games_df.pkl')"
   ]
  },
  {
   "cell_type": "markdown",
   "id": "f325922c-ddbd-4fb4-878d-dde69036dcfa",
   "metadata": {},
   "source": [
    "***"
   ]
  },
  {
   "cell_type": "markdown",
   "id": "fe6ada02-23bb-4b4b-ba45-442f79d05eb7",
   "metadata": {},
   "source": [
    "**Notebook Ending Remarks**"
   ]
  },
  {
   "cell_type": "markdown",
   "id": "67ff0b2a-ad53-4e76-ab84-3d14cbebdbf4",
   "metadata": {},
   "source": [
    "In this notebook, I have completed some cleaning steps to ensure the data is of its highest quality before processing may begin. This will give the most accurate analysis, and thus more accurate findings and insights.\n",
    "\n",
    "In the next notebook, I will be exploring my data in more detail by doing some exploratory data analysis. See Notebook *2-EDA*."
   ]
  },
  {
   "cell_type": "markdown",
   "id": "eb5988ca-c25c-4666-b0cc-2f9f1125d7ec",
   "metadata": {},
   "source": [
    "***"
   ]
  }
 ],
 "metadata": {
  "kernelspec": {
   "display_name": "Python 3 (ipykernel)",
   "language": "python",
   "name": "python3"
  },
  "language_info": {
   "codemirror_mode": {
    "name": "ipython",
    "version": 3
   },
   "file_extension": ".py",
   "mimetype": "text/x-python",
   "name": "python",
   "nbconvert_exporter": "python",
   "pygments_lexer": "ipython3",
   "version": "3.9.7"
  },
  "toc-autonumbering": false,
  "toc-showmarkdowntxt": false
 },
 "nbformat": 4,
 "nbformat_minor": 5
}
